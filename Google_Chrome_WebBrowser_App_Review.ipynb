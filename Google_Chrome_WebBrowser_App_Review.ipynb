{
  "nbformat": 4,
  "nbformat_minor": 0,
  "metadata": {
    "colab": {
      "name": "Google_Chrome_WebBrowser_App_Review.ipynb",
      "provenance": [],
      "authorship_tag": "ABX9TyNWLbOihoqZcQdYw65c8nMY",
      "include_colab_link": true
    },
    "kernelspec": {
      "name": "python3",
      "display_name": "Python 3"
    },
    "language_info": {
      "name": "python"
    }
  },
  "cells": [
    {
      "cell_type": "markdown",
      "metadata": {
        "id": "view-in-github",
        "colab_type": "text"
      },
      "source": [
        "<a href=\"https://colab.research.google.com/github/anilpankaj/Google-Chrome-Web-Browser-App-Review/blob/main/Google_Chrome_WebBrowser_App_Review.ipynb\" target=\"_parent\"><img src=\"https://colab.research.google.com/assets/colab-badge.svg\" alt=\"Open In Colab\"/></a>"
      ]
    },
    {
      "cell_type": "markdown",
      "source": [
        "# Google Chrome WebBrowser App Review"
      ],
      "metadata": {
        "id": "3BSDsRNc4nI4"
      }
    },
    {
      "cell_type": "markdown",
      "source": [
        "### first we need to install google-play-scraper"
      ],
      "metadata": {
        "id": "wruoeI-N4iRF"
      }
    },
    {
      "cell_type": "code",
      "source": [
        "!pip install google-play-scraper"
      ],
      "metadata": {
        "colab": {
          "base_uri": "https://localhost:8080/"
        },
        "id": "AXAEAOhE4x6X",
        "outputId": "e8f380d6-95ca-4139-9ab1-e4122c7a0bc7"
      },
      "execution_count": 1,
      "outputs": [
        {
          "output_type": "stream",
          "name": "stdout",
          "text": [
            "Collecting google-play-scraper\n",
            "  Downloading google-play-scraper-1.0.3.tar.gz (52 kB)\n",
            "\u001b[?25l\r\u001b[K     |██████▏                         | 10 kB 18.7 MB/s eta 0:00:01\r\u001b[K     |████████████▍                   | 20 kB 24.9 MB/s eta 0:00:01\r\u001b[K     |██████████████████▋             | 30 kB 13.6 MB/s eta 0:00:01\r\u001b[K     |████████████████████████▉       | 40 kB 11.9 MB/s eta 0:00:01\r\u001b[K     |███████████████████████████████ | 51 kB 9.7 MB/s eta 0:00:01\r\u001b[K     |████████████████████████████████| 52 kB 876 kB/s \n",
            "\u001b[?25hBuilding wheels for collected packages: google-play-scraper\n",
            "  Building wheel for google-play-scraper (setup.py) ... \u001b[?25l\u001b[?25hdone\n",
            "  Created wheel for google-play-scraper: filename=google_play_scraper-1.0.3-py3-none-any.whl size=24394 sha256=83488029fd64098cb92c10fa3cf2f249c2412d791c30408c1aead6670729e494\n",
            "  Stored in directory: /root/.cache/pip/wheels/81/37/0b/4a14be55b449a048cd93d79930b1a980dee7896480defa1923\n",
            "Successfully built google-play-scraper\n",
            "Installing collected packages: google-play-scraper\n",
            "Successfully installed google-play-scraper-1.0.3\n"
          ]
        }
      ]
    },
    {
      "cell_type": "markdown",
      "source": [
        "### Import Needed Libraries"
      ],
      "metadata": {
        "id": "WXXwplIX4-HU"
      }
    },
    {
      "cell_type": "code",
      "source": [
        "from google_play_scraper import Sort, reviews_all, reviews, app\n",
        "import pandas as pd\n",
        "import numpy as np\n",
        "import glob\n",
        "import os"
      ],
      "metadata": {
        "id": "FWvZPjUi42yx"
      },
      "execution_count": 2,
      "outputs": []
    },
    {
      "cell_type": "markdown",
      "source": [
        "## Scraping Code"
      ],
      "metadata": {
        "id": "W5zcsKzo5H7Z"
      }
    },
    {
      "cell_type": "code",
      "source": [
        "result = reviews_all(\n",
        "    'com.android.chrome',\n",
        "    sleep_milliseconds=0,  # by defaults it's take 0\n",
        "    lang='en', # by defaluts it's take 'en'\n",
        "    country='us', # by defaluts it's take 'us'\n",
        "    sort = Sort.NEWEST, # by defaults to Sort.MOST_RELEVANT, you can usee Sort.Newest to get newst reviews first\n",
        ")"
      ],
      "metadata": {
        "id": "8UhtM2225ZM0"
      },
      "execution_count": 3,
      "outputs": []
    },
    {
      "cell_type": "markdown",
      "source": [
        "## let's see the preview data"
      ],
      "metadata": {
        "id": "br7cbry76QAT"
      }
    },
    {
      "cell_type": "code",
      "source": [
        "data_scraped = pd.DataFrame(np.array(result),columns=['review'])\n",
        "data_scraped = data_scraped.join(pd.DataFrame(data_scraped.pop('review').tolist()))\n",
        "data_scraped.head()"
      ],
      "metadata": {
        "colab": {
          "base_uri": "https://localhost:8080/",
          "height": 530
        },
        "id": "Z0tvRVHr6VvC",
        "outputId": "04eb1e82-37ec-4469-d276-5a3ec1dd39a5"
      },
      "execution_count": 4,
      "outputs": [
        {
          "output_type": "execute_result",
          "data": {
            "text/plain": [
              "                                            reviewId           userName  \\\n",
              "0  gp:AOqpTOFubaa0-3VZRPXVVAd7aL6qZ_gzBij1b4dIFyW...        Akash Yadav   \n",
              "1  gp:AOqpTOFAozlAirGKinlyZnKANYTiOiKBrbF-UkMGIhS...  Praveen Hunashyal   \n",
              "2  gp:AOqpTOGx3PpIGNud9t5unSYu4YOulWwPN8Ow5og8vXd...        Kiran Yelke   \n",
              "3  gp:AOqpTOH2KmqVjcH9m-i8H2DEPFsdNS2IQCT8-uOh_Bx...      KENNETH SHORT   \n",
              "4  gp:AOqpTOHo5BSoeg8KvwhZwrRUHHiTXYW4AOG4LuhB_fm...        Milan Pahan   \n",
              "\n",
              "                                           userImage  \\\n",
              "0  https://play-lh.googleusercontent.com/a-/AOh14...   \n",
              "1  https://play-lh.googleusercontent.com/a/AATXAJ...   \n",
              "2  https://play-lh.googleusercontent.com/a/AATXAJ...   \n",
              "3  https://play-lh.googleusercontent.com/a-/AOh14...   \n",
              "4  https://play-lh.googleusercontent.com/a-/AOh14...   \n",
              "\n",
              "                                           content  score  thumbsUpCount  \\\n",
              "0                                             Good      5              0   \n",
              "1  I'm unable to update it.... Plz solve the query      1              0   \n",
              "2                                         Best app      5              0   \n",
              "3                                            Great      5              0   \n",
              "4                                              Hig      5              0   \n",
              "\n",
              "  reviewCreatedVersion                  at replyContent repliedAt  \n",
              "0         98.0.4758.87 2022-04-23 10:11:33         None       NaT  \n",
              "1        96.0.4664.104 2022-04-23 10:11:22         None       NaT  \n",
              "2        100.0.4896.88 2022-04-23 10:10:46         None       NaT  \n",
              "3       100.0.4896.127 2022-04-23 10:10:43         None       NaT  \n",
              "4         55.0.2883.91 2022-04-23 10:10:22         None       NaT  "
            ],
            "text/html": [
              "\n",
              "  <div id=\"df-5e2d9fbd-a78c-4036-8f83-a2f0b9d6934c\">\n",
              "    <div class=\"colab-df-container\">\n",
              "      <div>\n",
              "<style scoped>\n",
              "    .dataframe tbody tr th:only-of-type {\n",
              "        vertical-align: middle;\n",
              "    }\n",
              "\n",
              "    .dataframe tbody tr th {\n",
              "        vertical-align: top;\n",
              "    }\n",
              "\n",
              "    .dataframe thead th {\n",
              "        text-align: right;\n",
              "    }\n",
              "</style>\n",
              "<table border=\"1\" class=\"dataframe\">\n",
              "  <thead>\n",
              "    <tr style=\"text-align: right;\">\n",
              "      <th></th>\n",
              "      <th>reviewId</th>\n",
              "      <th>userName</th>\n",
              "      <th>userImage</th>\n",
              "      <th>content</th>\n",
              "      <th>score</th>\n",
              "      <th>thumbsUpCount</th>\n",
              "      <th>reviewCreatedVersion</th>\n",
              "      <th>at</th>\n",
              "      <th>replyContent</th>\n",
              "      <th>repliedAt</th>\n",
              "    </tr>\n",
              "  </thead>\n",
              "  <tbody>\n",
              "    <tr>\n",
              "      <th>0</th>\n",
              "      <td>gp:AOqpTOFubaa0-3VZRPXVVAd7aL6qZ_gzBij1b4dIFyW...</td>\n",
              "      <td>Akash Yadav</td>\n",
              "      <td>https://play-lh.googleusercontent.com/a-/AOh14...</td>\n",
              "      <td>Good</td>\n",
              "      <td>5</td>\n",
              "      <td>0</td>\n",
              "      <td>98.0.4758.87</td>\n",
              "      <td>2022-04-23 10:11:33</td>\n",
              "      <td>None</td>\n",
              "      <td>NaT</td>\n",
              "    </tr>\n",
              "    <tr>\n",
              "      <th>1</th>\n",
              "      <td>gp:AOqpTOFAozlAirGKinlyZnKANYTiOiKBrbF-UkMGIhS...</td>\n",
              "      <td>Praveen Hunashyal</td>\n",
              "      <td>https://play-lh.googleusercontent.com/a/AATXAJ...</td>\n",
              "      <td>I'm unable to update it.... Plz solve the query</td>\n",
              "      <td>1</td>\n",
              "      <td>0</td>\n",
              "      <td>96.0.4664.104</td>\n",
              "      <td>2022-04-23 10:11:22</td>\n",
              "      <td>None</td>\n",
              "      <td>NaT</td>\n",
              "    </tr>\n",
              "    <tr>\n",
              "      <th>2</th>\n",
              "      <td>gp:AOqpTOGx3PpIGNud9t5unSYu4YOulWwPN8Ow5og8vXd...</td>\n",
              "      <td>Kiran Yelke</td>\n",
              "      <td>https://play-lh.googleusercontent.com/a/AATXAJ...</td>\n",
              "      <td>Best app</td>\n",
              "      <td>5</td>\n",
              "      <td>0</td>\n",
              "      <td>100.0.4896.88</td>\n",
              "      <td>2022-04-23 10:10:46</td>\n",
              "      <td>None</td>\n",
              "      <td>NaT</td>\n",
              "    </tr>\n",
              "    <tr>\n",
              "      <th>3</th>\n",
              "      <td>gp:AOqpTOH2KmqVjcH9m-i8H2DEPFsdNS2IQCT8-uOh_Bx...</td>\n",
              "      <td>KENNETH SHORT</td>\n",
              "      <td>https://play-lh.googleusercontent.com/a-/AOh14...</td>\n",
              "      <td>Great</td>\n",
              "      <td>5</td>\n",
              "      <td>0</td>\n",
              "      <td>100.0.4896.127</td>\n",
              "      <td>2022-04-23 10:10:43</td>\n",
              "      <td>None</td>\n",
              "      <td>NaT</td>\n",
              "    </tr>\n",
              "    <tr>\n",
              "      <th>4</th>\n",
              "      <td>gp:AOqpTOHo5BSoeg8KvwhZwrRUHHiTXYW4AOG4LuhB_fm...</td>\n",
              "      <td>Milan Pahan</td>\n",
              "      <td>https://play-lh.googleusercontent.com/a-/AOh14...</td>\n",
              "      <td>Hig</td>\n",
              "      <td>5</td>\n",
              "      <td>0</td>\n",
              "      <td>55.0.2883.91</td>\n",
              "      <td>2022-04-23 10:10:22</td>\n",
              "      <td>None</td>\n",
              "      <td>NaT</td>\n",
              "    </tr>\n",
              "  </tbody>\n",
              "</table>\n",
              "</div>\n",
              "      <button class=\"colab-df-convert\" onclick=\"convertToInteractive('df-5e2d9fbd-a78c-4036-8f83-a2f0b9d6934c')\"\n",
              "              title=\"Convert this dataframe to an interactive table.\"\n",
              "              style=\"display:none;\">\n",
              "        \n",
              "  <svg xmlns=\"http://www.w3.org/2000/svg\" height=\"24px\"viewBox=\"0 0 24 24\"\n",
              "       width=\"24px\">\n",
              "    <path d=\"M0 0h24v24H0V0z\" fill=\"none\"/>\n",
              "    <path d=\"M18.56 5.44l.94 2.06.94-2.06 2.06-.94-2.06-.94-.94-2.06-.94 2.06-2.06.94zm-11 1L8.5 8.5l.94-2.06 2.06-.94-2.06-.94L8.5 2.5l-.94 2.06-2.06.94zm10 10l.94 2.06.94-2.06 2.06-.94-2.06-.94-.94-2.06-.94 2.06-2.06.94z\"/><path d=\"M17.41 7.96l-1.37-1.37c-.4-.4-.92-.59-1.43-.59-.52 0-1.04.2-1.43.59L10.3 9.45l-7.72 7.72c-.78.78-.78 2.05 0 2.83L4 21.41c.39.39.9.59 1.41.59.51 0 1.02-.2 1.41-.59l7.78-7.78 2.81-2.81c.8-.78.8-2.07 0-2.86zM5.41 20L4 18.59l7.72-7.72 1.47 1.35L5.41 20z\"/>\n",
              "  </svg>\n",
              "      </button>\n",
              "      \n",
              "  <style>\n",
              "    .colab-df-container {\n",
              "      display:flex;\n",
              "      flex-wrap:wrap;\n",
              "      gap: 12px;\n",
              "    }\n",
              "\n",
              "    .colab-df-convert {\n",
              "      background-color: #E8F0FE;\n",
              "      border: none;\n",
              "      border-radius: 50%;\n",
              "      cursor: pointer;\n",
              "      display: none;\n",
              "      fill: #1967D2;\n",
              "      height: 32px;\n",
              "      padding: 0 0 0 0;\n",
              "      width: 32px;\n",
              "    }\n",
              "\n",
              "    .colab-df-convert:hover {\n",
              "      background-color: #E2EBFA;\n",
              "      box-shadow: 0px 1px 2px rgba(60, 64, 67, 0.3), 0px 1px 3px 1px rgba(60, 64, 67, 0.15);\n",
              "      fill: #174EA6;\n",
              "    }\n",
              "\n",
              "    [theme=dark] .colab-df-convert {\n",
              "      background-color: #3B4455;\n",
              "      fill: #D2E3FC;\n",
              "    }\n",
              "\n",
              "    [theme=dark] .colab-df-convert:hover {\n",
              "      background-color: #434B5C;\n",
              "      box-shadow: 0px 1px 3px 1px rgba(0, 0, 0, 0.15);\n",
              "      filter: drop-shadow(0px 1px 2px rgba(0, 0, 0, 0.3));\n",
              "      fill: #FFFFFF;\n",
              "    }\n",
              "  </style>\n",
              "\n",
              "      <script>\n",
              "        const buttonEl =\n",
              "          document.querySelector('#df-5e2d9fbd-a78c-4036-8f83-a2f0b9d6934c button.colab-df-convert');\n",
              "        buttonEl.style.display =\n",
              "          google.colab.kernel.accessAllowed ? 'block' : 'none';\n",
              "\n",
              "        async function convertToInteractive(key) {\n",
              "          const element = document.querySelector('#df-5e2d9fbd-a78c-4036-8f83-a2f0b9d6934c');\n",
              "          const dataTable =\n",
              "            await google.colab.kernel.invokeFunction('convertToInteractive',\n",
              "                                                     [key], {});\n",
              "          if (!dataTable) return;\n",
              "\n",
              "          const docLinkHtml = 'Like what you see? Visit the ' +\n",
              "            '<a target=\"_blank\" href=https://colab.research.google.com/notebooks/data_table.ipynb>data table notebook</a>'\n",
              "            + ' to learn more about interactive tables.';\n",
              "          element.innerHTML = '';\n",
              "          dataTable['output_type'] = 'display_data';\n",
              "          await google.colab.output.renderOutput(dataTable, element);\n",
              "          const docLink = document.createElement('div');\n",
              "          docLink.innerHTML = docLinkHtml;\n",
              "          element.appendChild(docLink);\n",
              "        }\n",
              "      </script>\n",
              "    </div>\n",
              "  </div>\n",
              "  "
            ]
          },
          "metadata": {},
          "execution_count": 4
        }
      ]
    },
    {
      "cell_type": "markdown",
      "source": [
        "## Let's see the count of the data that we go"
      ],
      "metadata": {
        "id": "FFR5yT1x6bEx"
      }
    },
    {
      "cell_type": "code",
      "source": [
        "print(len(data_scraped.index))"
      ],
      "metadata": {
        "colab": {
          "base_uri": "https://localhost:8080/"
        },
        "id": "N07e6MVO6eC9",
        "outputId": "9c510b89-c419-431c-eb09-c7f11270c544"
      },
      "execution_count": 5,
      "outputs": [
        {
          "output_type": "stream",
          "name": "stdout",
          "text": [
            "458098\n"
          ]
        }
      ]
    },
    {
      "cell_type": "markdown",
      "source": [
        "## Code to download/import our data to our device"
      ],
      "metadata": {
        "id": "O6NNMKwV6hx5"
      }
    },
    {
      "cell_type": "code",
      "source": [
        "data_scraped.to_csv(\"Google_Chrome_Browser.csv\", index = False) #it's save the file as x csv."
      ],
      "metadata": {
        "id": "GJVrRBMc61Od"
      },
      "execution_count": 6,
      "outputs": []
    }
  ]
}