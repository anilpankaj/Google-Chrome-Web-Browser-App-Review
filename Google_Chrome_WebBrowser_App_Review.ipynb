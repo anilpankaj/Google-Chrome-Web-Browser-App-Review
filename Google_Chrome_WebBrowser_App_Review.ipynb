{
  "cells": [
    {
      "cell_type": "markdown",
      "metadata": {
        "id": "view-in-github",
        "colab_type": "text"
      },
      "source": [
        "<a href=\"https://colab.research.google.com/github/anilpankaj/Google-Chrome-Web-Browser-App-Review/blob/main/Google_Chrome_WebBrowser_App_Review.ipynb\" target=\"_parent\"><img src=\"https://colab.research.google.com/assets/colab-badge.svg\" alt=\"Open In Colab\"/></a>"
      ]
    },
    {
      "cell_type": "markdown",
      "metadata": {
        "id": "3BSDsRNc4nI4"
      },
      "source": [
        "# Google Chrome WebBrowser App Review"
      ]
    },
    {
      "cell_type": "markdown",
      "metadata": {
        "id": "wruoeI-N4iRF"
      },
      "source": [
        "### first we need to install google-play-scraper"
      ]
    },
    {
      "cell_type": "code",
      "execution_count": 13,
      "metadata": {
        "colab": {
          "base_uri": "https://localhost:8080/"
        },
        "id": "AXAEAOhE4x6X",
        "outputId": "0c2cd13d-41de-47e0-b957-e70a23c2a31c"
      },
      "outputs": [
        {
          "output_type": "stream",
          "name": "stdout",
          "text": [
            "Requirement already satisfied: google-play-scraper in /usr/local/lib/python3.7/dist-packages (1.0.3)\n"
          ]
        }
      ],
      "source": [
        "!pip install google-play-scraper"
      ]
    },
    {
      "cell_type": "markdown",
      "metadata": {
        "id": "WXXwplIX4-HU"
      },
      "source": [
        "### Import Needed Libraries"
      ]
    },
    {
      "cell_type": "code",
      "execution_count": 14,
      "metadata": {
        "id": "FWvZPjUi42yx"
      },
      "outputs": [],
      "source": [
        "from google_play_scraper import Sort, reviews_all, reviews, app\n",
        "import pandas as pd\n",
        "import numpy as np\n",
        "import glob\n",
        "import os"
      ]
    },
    {
      "cell_type": "markdown",
      "metadata": {
        "id": "W5zcsKzo5H7Z"
      },
      "source": [
        "# 1) Data Scraping Code"
      ]
    },
    {
      "cell_type": "code",
      "execution_count": null,
      "metadata": {
        "colab": {
          "background_save": true
        },
        "id": "8UhtM2225ZM0"
      },
      "outputs": [],
      "source": [
        "output = reviews_all(\n",
        "    'com.android.chrome',\n",
        "    sleep_milliseconds=0,  # by defaults it's take 0\n",
        "    lang='en', # by defaluts it's take 'en'\n",
        "    country='us', # by defaluts it's take 'us'\n",
        "    sort = Sort.NEWEST, # by defaults to Sort.MOST_RELEVANT, you can usee Sort.Newest to get newst reviews first\n",
        ")"
      ]
    },
    {
      "cell_type": "markdown",
      "metadata": {
        "id": "R6DGcA7HmifM"
      },
      "source": [
        "### Let's take counted data"
      ]
    },
    {
      "cell_type": "code",
      "execution_count": 15,
      "metadata": {
        "id": "yZ61UqRkkWtD"
      },
      "outputs": [],
      "source": [
        "output, continuation_token = reviews(\n",
        "    'com.android.chrome',\n",
        "    lang='en',                # defaults to 'en'\n",
        "    country='us',             # defaults to 'us'\n",
        "    sort=Sort.MOST_RELEVANT,  # defaults to Sort.MOST_RELEVANT you can use Sort.NEWEST to get newst reviews\n",
        "    count=100000,               # defaults to 100\n",
        "    filter_score_with=None    # defaults to None(means all score) Use 1 or 2 or 3 or 4 or 5 to select certain score\n",
        ")"
      ]
    },
    {
      "cell_type": "markdown",
      "metadata": {
        "id": "br7cbry76QAT"
      },
      "source": [
        "## let's see the preview data"
      ]
    },
    {
      "cell_type": "code",
      "execution_count": 16,
      "metadata": {
        "colab": {
          "base_uri": "https://localhost:8080/",
          "height": 1000
        },
        "id": "Z0tvRVHr6VvC",
        "outputId": "96bd40f4-aff3-4e0b-b913-0b54645d8b5e"
      },
      "outputs": [
        {
          "output_type": "execute_result",
          "data": {
            "text/plain": [
              "                                                                                     reviewId  \\\n",
              "0  gp:AOqpTOGstSPrQNkNvSr2EBGT3jI-FnryXtJTJc6EQrKDH1D2iaiR9nG3gY1QYs5Dix0Bo7pPZbPI5QnWEReYX_E   \n",
              "1  gp:AOqpTOEk7mPfjNZ0RZGwM8hiSeiUKloLBHd7ZVoR68msED5JWiBYr0ukIwdUR-4fjAb9ErK-BL844PKQaERGS1Y   \n",
              "2  gp:AOqpTOExU9Gy62l-HWSOJMBGF74sNZYeHUqCHs5LRtfbgZD2Eddiv18WalvVJu2pVZVf9g8oYCYI3sTXp4UDYAk   \n",
              "3  gp:AOqpTOFh-QmcD3CbdSVWwMX_mzyxbYTETBgGeiV2elFF-I1P7tfHTyWtP49w8te3P1eW4FGKJ7oa-KsxjmgELo8   \n",
              "4  gp:AOqpTOGU-gOqf_TKYiHhWj_pLsNKeC3oh2Csvd4LcHPPOjozpPnLWTt_SPHDHsWpA5dfIglfy5DlKHpfxjO-nrM   \n",
              "\n",
              "           userName  \\\n",
              "0  Em P               \n",
              "1  Adam Stanfield     \n",
              "2  shawna van order   \n",
              "3  R J                \n",
              "4  Emma M             \n",
              "\n",
              "                                                                                   userImage  \\\n",
              "0  https://play-lh.googleusercontent.com/a-/AOh14GgwXmLdzDNbBHCLopWgOKFrlgzGYyYbrySl5Xf-hWE    \n",
              "1  https://play-lh.googleusercontent.com/a-/AOh14GhGDqECYGpCFmLB5MDsVRLtbevsv7evnUhKsMdl2A     \n",
              "2  https://play-lh.googleusercontent.com/a/AATXAJyfovJYml-8fUhfrLBECYrG2Lx4e37XGi6qcxkk=mo     \n",
              "3  https://play-lh.googleusercontent.com/a/AATXAJzQPD-BkYe-z5uFXTxqU7t_D7rkTu5kRol7HRwQNg=mo   \n",
              "4  https://play-lh.googleusercontent.com/a-/AOh14GgSbI5Yg3xryaClXQl9TdJhB8d6cJJt9y-Wn3LMgw     \n",
              "\n",
              "                                                                                                                                                                                                                                                                                                                                                                                                                                                                                                              content  \\\n",
              "0  I love Google Chrome due to it's easy access, ability to go into desktop mode, etc... But, lately, whenever I attempt at opening Chrome, it's a blank screen for several minutes, and once it does finally load, I can't search up anything. All of my other apps work smoothly, my internet connection is fine. Please fix this. Thank you so much.                                                                                                                                                                 \n",
              "1  At some point in the last couple of months, Chrome has gone nuts. I will be scrolling and everything will be going smoothly, but as soon as I click on a picture or a link, everything freezes, then my phone gives me that \"Chrome is not responding\" notice where I can choose to wait or just close the app. I have tried doing cleanup of data, cache, etc. but that doesn't seem to have made ANY change.                                                                                                       \n",
              "2  I have always used this as my web browser. Never questioned it. However... Recently whenever I'm using another app with this one not even open it opens the app and a webpage. There are different webpages it opens to. I close out the pages and then close the app but it continues to do it.... Alot!! I've tried clearing the cash and whatever else. I've tried to uninstall it but that isn't possible because it was already on the phone.. I really do not want to lose any information linked to chrome.   \n",
              "3  Can't get rid of white bar along the right side of the browser. Doesn't happen with any other browser. This used to be my fave browser but it just gets worse with no real innovation. Switching to a less intrusive browser that actually works. Also need to get rid of the tabs. It makes it harder to switch between open screens and find the one im looking for. I end up just using multiple windows like before.. Also please provide a better way to organize/delete bookmarks.                             \n",
              "4  I've used this browser for years with minimal problems. It has everything & is fast. The only issue I have with chrome is with the password manager - when it tells you that there's a breach. So, you change the password quickly on the account with the breech but it still shows as a breach and if you've used that password for others, it will show breeches in all those other sites even though there isn't. Make sure you cancel/delete unused accounts.                                                   \n",
              "\n",
              "   score  thumbsUpCount reviewCreatedVersion                  at  \\\n",
              "0  3      3706           100.0.4896.58       2022-04-05 04:25:05   \n",
              "1  3      3106           100.0.4896.79       2022-04-09 12:27:08   \n",
              "2  1      205            100.0.4896.127      2022-04-21 22:52:25   \n",
              "3  1      1787           100.0.4896.58       2022-04-02 12:57:23   \n",
              "4  4      920            99.0.4844.88        2022-04-03 00:50:37   \n",
              "\n",
              "                                                                                                                                                                                                                                                                               replyContent  \\\n",
              "0  Hey there. Let's try resetting Chrome's app data. You can learn how in this help center article under the \"Clear the app's cache\" section: https://goo.gle/31HWXkZ. If you're still having trouble, the experts in our community may be able to help: https://goo.gle/2Y0DMk8. Thanks!\\n   \n",
              "1  None                                                                                                                                                                                                                                                                                       \n",
              "2  None                                                                                                                                                                                                                                                                                       \n",
              "3  None                                                                                                                                                                                                                                                                                       \n",
              "4  None                                                                                                                                                                                                                                                                                       \n",
              "\n",
              "            repliedAt  \n",
              "0 2022-04-05 05:02:18  \n",
              "1 NaT                  \n",
              "2 NaT                  \n",
              "3 NaT                  \n",
              "4 NaT                  "
            ],
            "text/html": [
              "\n",
              "  <div id=\"df-477d3150-55df-4ead-8b7d-341f7b88d771\">\n",
              "    <div class=\"colab-df-container\">\n",
              "      <div>\n",
              "<style scoped>\n",
              "    .dataframe tbody tr th:only-of-type {\n",
              "        vertical-align: middle;\n",
              "    }\n",
              "\n",
              "    .dataframe tbody tr th {\n",
              "        vertical-align: top;\n",
              "    }\n",
              "\n",
              "    .dataframe thead th {\n",
              "        text-align: right;\n",
              "    }\n",
              "</style>\n",
              "<table border=\"1\" class=\"dataframe\">\n",
              "  <thead>\n",
              "    <tr style=\"text-align: right;\">\n",
              "      <th></th>\n",
              "      <th>reviewId</th>\n",
              "      <th>userName</th>\n",
              "      <th>userImage</th>\n",
              "      <th>content</th>\n",
              "      <th>score</th>\n",
              "      <th>thumbsUpCount</th>\n",
              "      <th>reviewCreatedVersion</th>\n",
              "      <th>at</th>\n",
              "      <th>replyContent</th>\n",
              "      <th>repliedAt</th>\n",
              "    </tr>\n",
              "  </thead>\n",
              "  <tbody>\n",
              "    <tr>\n",
              "      <th>0</th>\n",
              "      <td>gp:AOqpTOGstSPrQNkNvSr2EBGT3jI-FnryXtJTJc6EQrKDH1D2iaiR9nG3gY1QYs5Dix0Bo7pPZbPI5QnWEReYX_E</td>\n",
              "      <td>Em P</td>\n",
              "      <td>https://play-lh.googleusercontent.com/a-/AOh14GgwXmLdzDNbBHCLopWgOKFrlgzGYyYbrySl5Xf-hWE</td>\n",
              "      <td>I love Google Chrome due to it's easy access, ability to go into desktop mode, etc... But, lately, whenever I attempt at opening Chrome, it's a blank screen for several minutes, and once it does finally load, I can't search up anything. All of my other apps work smoothly, my internet connection is fine. Please fix this. Thank you so much.</td>\n",
              "      <td>3</td>\n",
              "      <td>3706</td>\n",
              "      <td>100.0.4896.58</td>\n",
              "      <td>2022-04-05 04:25:05</td>\n",
              "      <td>Hey there. Let's try resetting Chrome's app data. You can learn how in this help center article under the \"Clear the app's cache\" section: https://goo.gle/31HWXkZ. If you're still having trouble, the experts in our community may be able to help: https://goo.gle/2Y0DMk8. Thanks!\\n</td>\n",
              "      <td>2022-04-05 05:02:18</td>\n",
              "    </tr>\n",
              "    <tr>\n",
              "      <th>1</th>\n",
              "      <td>gp:AOqpTOEk7mPfjNZ0RZGwM8hiSeiUKloLBHd7ZVoR68msED5JWiBYr0ukIwdUR-4fjAb9ErK-BL844PKQaERGS1Y</td>\n",
              "      <td>Adam Stanfield</td>\n",
              "      <td>https://play-lh.googleusercontent.com/a-/AOh14GhGDqECYGpCFmLB5MDsVRLtbevsv7evnUhKsMdl2A</td>\n",
              "      <td>At some point in the last couple of months, Chrome has gone nuts. I will be scrolling and everything will be going smoothly, but as soon as I click on a picture or a link, everything freezes, then my phone gives me that \"Chrome is not responding\" notice where I can choose to wait or just close the app. I have tried doing cleanup of data, cache, etc. but that doesn't seem to have made ANY change.</td>\n",
              "      <td>3</td>\n",
              "      <td>3106</td>\n",
              "      <td>100.0.4896.79</td>\n",
              "      <td>2022-04-09 12:27:08</td>\n",
              "      <td>None</td>\n",
              "      <td>NaT</td>\n",
              "    </tr>\n",
              "    <tr>\n",
              "      <th>2</th>\n",
              "      <td>gp:AOqpTOExU9Gy62l-HWSOJMBGF74sNZYeHUqCHs5LRtfbgZD2Eddiv18WalvVJu2pVZVf9g8oYCYI3sTXp4UDYAk</td>\n",
              "      <td>shawna van order</td>\n",
              "      <td>https://play-lh.googleusercontent.com/a/AATXAJyfovJYml-8fUhfrLBECYrG2Lx4e37XGi6qcxkk=mo</td>\n",
              "      <td>I have always used this as my web browser. Never questioned it. However... Recently whenever I'm using another app with this one not even open it opens the app and a webpage. There are different webpages it opens to. I close out the pages and then close the app but it continues to do it.... Alot!! I've tried clearing the cash and whatever else. I've tried to uninstall it but that isn't possible because it was already on the phone.. I really do not want to lose any information linked to chrome.</td>\n",
              "      <td>1</td>\n",
              "      <td>205</td>\n",
              "      <td>100.0.4896.127</td>\n",
              "      <td>2022-04-21 22:52:25</td>\n",
              "      <td>None</td>\n",
              "      <td>NaT</td>\n",
              "    </tr>\n",
              "    <tr>\n",
              "      <th>3</th>\n",
              "      <td>gp:AOqpTOFh-QmcD3CbdSVWwMX_mzyxbYTETBgGeiV2elFF-I1P7tfHTyWtP49w8te3P1eW4FGKJ7oa-KsxjmgELo8</td>\n",
              "      <td>R J</td>\n",
              "      <td>https://play-lh.googleusercontent.com/a/AATXAJzQPD-BkYe-z5uFXTxqU7t_D7rkTu5kRol7HRwQNg=mo</td>\n",
              "      <td>Can't get rid of white bar along the right side of the browser. Doesn't happen with any other browser. This used to be my fave browser but it just gets worse with no real innovation. Switching to a less intrusive browser that actually works. Also need to get rid of the tabs. It makes it harder to switch between open screens and find the one im looking for. I end up just using multiple windows like before.. Also please provide a better way to organize/delete bookmarks.</td>\n",
              "      <td>1</td>\n",
              "      <td>1787</td>\n",
              "      <td>100.0.4896.58</td>\n",
              "      <td>2022-04-02 12:57:23</td>\n",
              "      <td>None</td>\n",
              "      <td>NaT</td>\n",
              "    </tr>\n",
              "    <tr>\n",
              "      <th>4</th>\n",
              "      <td>gp:AOqpTOGU-gOqf_TKYiHhWj_pLsNKeC3oh2Csvd4LcHPPOjozpPnLWTt_SPHDHsWpA5dfIglfy5DlKHpfxjO-nrM</td>\n",
              "      <td>Emma M</td>\n",
              "      <td>https://play-lh.googleusercontent.com/a-/AOh14GgSbI5Yg3xryaClXQl9TdJhB8d6cJJt9y-Wn3LMgw</td>\n",
              "      <td>I've used this browser for years with minimal problems. It has everything &amp; is fast. The only issue I have with chrome is with the password manager - when it tells you that there's a breach. So, you change the password quickly on the account with the breech but it still shows as a breach and if you've used that password for others, it will show breeches in all those other sites even though there isn't. Make sure you cancel/delete unused accounts.</td>\n",
              "      <td>4</td>\n",
              "      <td>920</td>\n",
              "      <td>99.0.4844.88</td>\n",
              "      <td>2022-04-03 00:50:37</td>\n",
              "      <td>None</td>\n",
              "      <td>NaT</td>\n",
              "    </tr>\n",
              "  </tbody>\n",
              "</table>\n",
              "</div>\n",
              "      <button class=\"colab-df-convert\" onclick=\"convertToInteractive('df-477d3150-55df-4ead-8b7d-341f7b88d771')\"\n",
              "              title=\"Convert this dataframe to an interactive table.\"\n",
              "              style=\"display:none;\">\n",
              "        \n",
              "  <svg xmlns=\"http://www.w3.org/2000/svg\" height=\"24px\"viewBox=\"0 0 24 24\"\n",
              "       width=\"24px\">\n",
              "    <path d=\"M0 0h24v24H0V0z\" fill=\"none\"/>\n",
              "    <path d=\"M18.56 5.44l.94 2.06.94-2.06 2.06-.94-2.06-.94-.94-2.06-.94 2.06-2.06.94zm-11 1L8.5 8.5l.94-2.06 2.06-.94-2.06-.94L8.5 2.5l-.94 2.06-2.06.94zm10 10l.94 2.06.94-2.06 2.06-.94-2.06-.94-.94-2.06-.94 2.06-2.06.94z\"/><path d=\"M17.41 7.96l-1.37-1.37c-.4-.4-.92-.59-1.43-.59-.52 0-1.04.2-1.43.59L10.3 9.45l-7.72 7.72c-.78.78-.78 2.05 0 2.83L4 21.41c.39.39.9.59 1.41.59.51 0 1.02-.2 1.41-.59l7.78-7.78 2.81-2.81c.8-.78.8-2.07 0-2.86zM5.41 20L4 18.59l7.72-7.72 1.47 1.35L5.41 20z\"/>\n",
              "  </svg>\n",
              "      </button>\n",
              "      \n",
              "  <style>\n",
              "    .colab-df-container {\n",
              "      display:flex;\n",
              "      flex-wrap:wrap;\n",
              "      gap: 12px;\n",
              "    }\n",
              "\n",
              "    .colab-df-convert {\n",
              "      background-color: #E8F0FE;\n",
              "      border: none;\n",
              "      border-radius: 50%;\n",
              "      cursor: pointer;\n",
              "      display: none;\n",
              "      fill: #1967D2;\n",
              "      height: 32px;\n",
              "      padding: 0 0 0 0;\n",
              "      width: 32px;\n",
              "    }\n",
              "\n",
              "    .colab-df-convert:hover {\n",
              "      background-color: #E2EBFA;\n",
              "      box-shadow: 0px 1px 2px rgba(60, 64, 67, 0.3), 0px 1px 3px 1px rgba(60, 64, 67, 0.15);\n",
              "      fill: #174EA6;\n",
              "    }\n",
              "\n",
              "    [theme=dark] .colab-df-convert {\n",
              "      background-color: #3B4455;\n",
              "      fill: #D2E3FC;\n",
              "    }\n",
              "\n",
              "    [theme=dark] .colab-df-convert:hover {\n",
              "      background-color: #434B5C;\n",
              "      box-shadow: 0px 1px 3px 1px rgba(0, 0, 0, 0.15);\n",
              "      filter: drop-shadow(0px 1px 2px rgba(0, 0, 0, 0.3));\n",
              "      fill: #FFFFFF;\n",
              "    }\n",
              "  </style>\n",
              "\n",
              "      <script>\n",
              "        const buttonEl =\n",
              "          document.querySelector('#df-477d3150-55df-4ead-8b7d-341f7b88d771 button.colab-df-convert');\n",
              "        buttonEl.style.display =\n",
              "          google.colab.kernel.accessAllowed ? 'block' : 'none';\n",
              "\n",
              "        async function convertToInteractive(key) {\n",
              "          const element = document.querySelector('#df-477d3150-55df-4ead-8b7d-341f7b88d771');\n",
              "          const dataTable =\n",
              "            await google.colab.kernel.invokeFunction('convertToInteractive',\n",
              "                                                     [key], {});\n",
              "          if (!dataTable) return;\n",
              "\n",
              "          const docLinkHtml = 'Like what you see? Visit the ' +\n",
              "            '<a target=\"_blank\" href=https://colab.research.google.com/notebooks/data_table.ipynb>data table notebook</a>'\n",
              "            + ' to learn more about interactive tables.';\n",
              "          element.innerHTML = '';\n",
              "          dataTable['output_type'] = 'display_data';\n",
              "          await google.colab.output.renderOutput(dataTable, element);\n",
              "          const docLink = document.createElement('div');\n",
              "          docLink.innerHTML = docLinkHtml;\n",
              "          element.appendChild(docLink);\n",
              "        }\n",
              "      </script>\n",
              "    </div>\n",
              "  </div>\n",
              "  "
            ]
          },
          "metadata": {},
          "execution_count": 16
        }
      ],
      "source": [
        "data_scraped = pd.DataFrame(np.array(output),columns=['review'])\n",
        "data_scraped = data_scraped.join(pd.DataFrame(data_scraped.pop('review').tolist()))\n",
        "data_scraped.head()"
      ]
    },
    {
      "cell_type": "markdown",
      "metadata": {
        "id": "FFR5yT1x6bEx"
      },
      "source": [
        "## Let's see the count of the data that we go"
      ]
    },
    {
      "cell_type": "code",
      "execution_count": 17,
      "metadata": {
        "colab": {
          "base_uri": "https://localhost:8080/"
        },
        "id": "N07e6MVO6eC9",
        "outputId": "47c4d28c-2831-49fd-f09f-00e0949aad54"
      },
      "outputs": [
        {
          "output_type": "stream",
          "name": "stdout",
          "text": [
            "100000\n"
          ]
        }
      ],
      "source": [
        "print(len(data_scraped.index))"
      ]
    },
    {
      "cell_type": "markdown",
      "metadata": {
        "id": "O6NNMKwV6hx5"
      },
      "source": [
        "## Code to download/import our data to our device"
      ]
    },
    {
      "cell_type": "code",
      "execution_count": 18,
      "metadata": {
        "id": "GJVrRBMc61Od"
      },
      "outputs": [],
      "source": [
        "data_scraped.to_csv(\"Google_Chrome_Browser.csv\", index = False) #it's save the file as x csv."
      ]
    },
    {
      "cell_type": "markdown",
      "metadata": {
        "id": "MjPLMKI1zFxV"
      },
      "source": [
        "# 2) Data Cleaning & Pre-processing"
      ]
    },
    {
      "cell_type": "markdown",
      "metadata": {
        "id": "CVu8t_otzies"
      },
      "source": [
        "### Import Needed Libraries"
      ]
    },
    {
      "cell_type": "code",
      "execution_count": 19,
      "metadata": {
        "colab": {
          "base_uri": "https://localhost:8080/"
        },
        "id": "2J0ZLs_CzNZq",
        "outputId": "c57e6a85-2cb1-4c66-f4f1-393ac5817325"
      },
      "outputs": [
        {
          "output_type": "stream",
          "name": "stdout",
          "text": [
            "[nltk_data] Downloading package punkt to /root/nltk_data...\n",
            "[nltk_data]   Package punkt is already up-to-date!\n",
            "[nltk_data] Downloading package stopwords to /root/nltk_data...\n",
            "[nltk_data]   Package stopwords is already up-to-date!\n"
          ]
        },
        {
          "output_type": "execute_result",
          "data": {
            "text/plain": [
              "True"
            ]
          },
          "metadata": {},
          "execution_count": 19
        }
      ],
      "source": [
        "import re\n",
        "import nltk\n",
        "import string\n",
        "from nltk.tokenize import word_tokenize\n",
        "from nltk.corpus import stopwords\n",
        "from nltk.stem.porter import PorterStemmer\n",
        "\n",
        "nltk.download('punkt')\n",
        "nltk.download('stopwords')"
      ]
    },
    {
      "cell_type": "code",
      "execution_count": 20,
      "metadata": {
        "colab": {
          "base_uri": "https://localhost:8080/",
          "height": 1000
        },
        "id": "LkLta1hp8fxx",
        "outputId": "7265d230-362a-4ac2-dd5d-3cce0f174efb"
      },
      "outputs": [
        {
          "output_type": "execute_result",
          "data": {
            "text/plain": [
              "                                                                                         reviewId  \\\n",
              "0      gp:AOqpTOGstSPrQNkNvSr2EBGT3jI-FnryXtJTJc6EQrKDH1D2iaiR9nG3gY1QYs5Dix0Bo7pPZbPI5QnWEReYX_E   \n",
              "1      gp:AOqpTOEk7mPfjNZ0RZGwM8hiSeiUKloLBHd7ZVoR68msED5JWiBYr0ukIwdUR-4fjAb9ErK-BL844PKQaERGS1Y   \n",
              "2      gp:AOqpTOExU9Gy62l-HWSOJMBGF74sNZYeHUqCHs5LRtfbgZD2Eddiv18WalvVJu2pVZVf9g8oYCYI3sTXp4UDYAk   \n",
              "3      gp:AOqpTOFh-QmcD3CbdSVWwMX_mzyxbYTETBgGeiV2elFF-I1P7tfHTyWtP49w8te3P1eW4FGKJ7oa-KsxjmgELo8   \n",
              "4      gp:AOqpTOGU-gOqf_TKYiHhWj_pLsNKeC3oh2Csvd4LcHPPOjozpPnLWTt_SPHDHsWpA5dfIglfy5DlKHpfxjO-nrM   \n",
              "...                                                                                           ...   \n",
              "99995  gp:AOqpTOGR05yMexx5yaxP_8TgseO2X33Nh7r8uttQx7nXCghQtJMaDXhIPgD4-V4Xpo5Q3aG5zRq7HZa73-5hZv0   \n",
              "99996  gp:AOqpTOGPNOyubOTmZVBAUgcGQc3pzbK9RJuZaUlk-9Nun5dzpdvPQigzvc_0_Ifb69MeVzIdrQ1VZERwGHCdfto   \n",
              "99997  gp:AOqpTOHjWq1nkXbW7jrg_UJZp40NPxgsqw-RbkG0duhm0g_Mh8z-2uGw2dg-zVjTDo3WfrStAwI4jWxX8bEKHHQ   \n",
              "99998  gp:AOqpTOHiSDvm2KWr1J9d9IFQpbYOmGXJMHWJ7BBG9EsoxcDiS1YKbZ8JGCF8SwTul27Hm9fVF13VWwWPJXvaY5k   \n",
              "99999  gp:AOqpTOGSdXRMejEKENH4hsIqK05RCKO1so3tpDE-VaCDdGXmPTS6Zd4DAFKfMtFILqTmmgCzW68RDKmE-aEJOJE   \n",
              "\n",
              "                              userName  \\\n",
              "0      Em P                              \n",
              "1      Adam Stanfield                    \n",
              "2      shawna van order                  \n",
              "3      R J                               \n",
              "4      Emma M                            \n",
              "...       ...                            \n",
              "99995  Tawheeduzzaman Tawheed [তাওহীদ]   \n",
              "99996  Helen Palmiero                    \n",
              "99997  Aleena Sadler                     \n",
              "99998  Muzamil Samad                     \n",
              "99999  Blackberry Junction               \n",
              "\n",
              "                                                                                       userImage  \\\n",
              "0      https://play-lh.googleusercontent.com/a-/AOh14GgwXmLdzDNbBHCLopWgOKFrlgzGYyYbrySl5Xf-hWE    \n",
              "1      https://play-lh.googleusercontent.com/a-/AOh14GhGDqECYGpCFmLB5MDsVRLtbevsv7evnUhKsMdl2A     \n",
              "2      https://play-lh.googleusercontent.com/a/AATXAJyfovJYml-8fUhfrLBECYrG2Lx4e37XGi6qcxkk=mo     \n",
              "3      https://play-lh.googleusercontent.com/a/AATXAJzQPD-BkYe-z5uFXTxqU7t_D7rkTu5kRol7HRwQNg=mo   \n",
              "4      https://play-lh.googleusercontent.com/a-/AOh14GgSbI5Yg3xryaClXQl9TdJhB8d6cJJt9y-Wn3LMgw     \n",
              "...                                                                                        ...     \n",
              "99995  https://play-lh.googleusercontent.com/a/AATXAJxDSH6C9DKIsTqtZAkI5asSCJafLwseyK6tBIPG=mo     \n",
              "99996  https://play-lh.googleusercontent.com/a/AATXAJytSPJiO2rTAT8NmLS4xizyy8wfo4h03N-c45yI=mo     \n",
              "99997  https://play-lh.googleusercontent.com/a-/AOh14Gg6ywhD3CcRBIQNH98FbkJrynuj-PhlfnuDpKf1ua8    \n",
              "99998  https://play-lh.googleusercontent.com/a-/AOh14GhGUaQICYka_ZzxJ2x54HXUA1p0rp9jCqDUsG7hpA     \n",
              "99999  https://play-lh.googleusercontent.com/a-/AOh14GgZBF83bqBV4_clzuAjF5x-hhnWlD1s214J129O       \n",
              "\n",
              "                                                                                                                                                                                                                                                                                                                                                                                                                                                                                                                  content  \\\n",
              "0      I love Google Chrome due to it's easy access, ability to go into desktop mode, etc... But, lately, whenever I attempt at opening Chrome, it's a blank screen for several minutes, and once it does finally load, I can't search up anything. All of my other apps work smoothly, my internet connection is fine. Please fix this. Thank you so much.                                                                                                                                                                 \n",
              "1      At some point in the last couple of months, Chrome has gone nuts. I will be scrolling and everything will be going smoothly, but as soon as I click on a picture or a link, everything freezes, then my phone gives me that \"Chrome is not responding\" notice where I can choose to wait or just close the app. I have tried doing cleanup of data, cache, etc. but that doesn't seem to have made ANY change.                                                                                                       \n",
              "2      I have always used this as my web browser. Never questioned it. However... Recently whenever I'm using another app with this one not even open it opens the app and a webpage. There are different webpages it opens to. I close out the pages and then close the app but it continues to do it.... Alot!! I've tried clearing the cash and whatever else. I've tried to uninstall it but that isn't possible because it was already on the phone.. I really do not want to lose any information linked to chrome.   \n",
              "3      Can't get rid of white bar along the right side of the browser. Doesn't happen with any other browser. This used to be my fave browser but it just gets worse with no real innovation. Switching to a less intrusive browser that actually works. Also need to get rid of the tabs. It makes it harder to switch between open screens and find the one im looking for. I end up just using multiple windows like before.. Also please provide a better way to organize/delete bookmarks.                             \n",
              "4      I've used this browser for years with minimal problems. It has everything & is fast. The only issue I have with chrome is with the password manager - when it tells you that there's a breach. So, you change the password quickly on the account with the breech but it still shows as a breach and if you've used that password for others, it will show breeches in all those other sites even though there isn't. Make sure you cancel/delete unused accounts.                                                   \n",
              "...                                                                                                                                                                                                                                                                                                                                                                                                                                                                   ...                                                   \n",
              "99995  The best browser of all time.! What a shame.! I miss the old chrome so much.!                                                                                                                                                                                                                                                                                                                                                                                                                                        \n",
              "99996  Chrome has ALWAYS been good for me. 11/2019 - Lately, Chrome has been rather slow.                                                                                                                                                                                                                                                                                                                                                                                                                                   \n",
              "99997  It won't fully update. I just keep seeing tlut updating for the last two days this is getting annoying.                                                                                                                                                                                                                                                                                                                                                                                                              \n",
              "99998  From last several days app doesn't update although it shows update but nothing happens when I click to update it freezes                                                                                                                                                                                                                                                                                                                                                                                             \n",
              "99999  Never responds, my phone is only a few months old and every time i go ontongoogle chrome it says, \"Chrome is not responding\"                                                                                                                                                                                                                                                                                                                                                                                         \n",
              "\n",
              "       score  thumbsUpCount reviewCreatedVersion                   at  \\\n",
              "0      3      3706           100.0.4896.58        2022-04-05 04:25:05   \n",
              "1      3      3106           100.0.4896.79        2022-04-09 12:27:08   \n",
              "2      1      205            100.0.4896.127       2022-04-21 22:52:25   \n",
              "3      1      1787           100.0.4896.58        2022-04-02 12:57:23   \n",
              "4      4      920            99.0.4844.88         2022-04-03 00:50:37   \n",
              "...   ..      ...                     ...                         ...   \n",
              "99995  1      0              86.0.4240.99         2020-10-21 16:04:44   \n",
              "99996  5      2              78.0.3904.96         2019-11-19 15:14:40   \n",
              "99997  1      0              87.0.4280.101        2021-01-09 05:18:11   \n",
              "99998  1      0              83.0.4103.106        2020-08-03 09:56:59   \n",
              "99999  1      4              76.0.3809.89         2019-08-02 14:08:11   \n",
              "\n",
              "                                                                                                                                                                                                                                                                                   replyContent  \\\n",
              "0      Hey there. Let's try resetting Chrome's app data. You can learn how in this help center article under the \"Clear the app's cache\" section: https://goo.gle/31HWXkZ. If you're still having trouble, the experts in our community may be able to help: https://goo.gle/2Y0DMk8. Thanks!\\n   \n",
              "1      NaN                                                                                                                                                                                                                                                                                        \n",
              "2      NaN                                                                                                                                                                                                                                                                                        \n",
              "3      NaN                                                                                                                                                                                                                                                                                        \n",
              "4      NaN                                                                                                                                                                                                                                                                                        \n",
              "...    ...                                                                                                                                                                                                                                                                                        \n",
              "99995  NaN                                                                                                                                                                                                                                                                                        \n",
              "99996  NaN                                                                                                                                                                                                                                                                                        \n",
              "99997  NaN                                                                                                                                                                                                                                                                                        \n",
              "99998  NaN                                                                                                                                                                                                                                                                                        \n",
              "99999  Hey there. Let's try resetting Chrome's app data. You can learn how in this help center article under the \"Clear the app's cache\" section: https://goo.gle/31HWXkZ. If you're still having trouble, the experts in our community may be able to help: https://goo.gle/2Y0DMk8. Thanks!     \n",
              "\n",
              "                 repliedAt  \n",
              "0      2022-04-05 05:02:18  \n",
              "1      NaN                  \n",
              "2      NaN                  \n",
              "3      NaN                  \n",
              "4      NaN                  \n",
              "...    ...                  \n",
              "99995  NaN                  \n",
              "99996  NaN                  \n",
              "99997  NaN                  \n",
              "99998  NaN                  \n",
              "99999  2019-08-02 14:10:44  \n",
              "\n",
              "[100000 rows x 10 columns]"
            ],
            "text/html": [
              "\n",
              "  <div id=\"df-70f3cbb5-b93f-46d6-a800-d9b4bc8e323e\">\n",
              "    <div class=\"colab-df-container\">\n",
              "      <div>\n",
              "<style scoped>\n",
              "    .dataframe tbody tr th:only-of-type {\n",
              "        vertical-align: middle;\n",
              "    }\n",
              "\n",
              "    .dataframe tbody tr th {\n",
              "        vertical-align: top;\n",
              "    }\n",
              "\n",
              "    .dataframe thead th {\n",
              "        text-align: right;\n",
              "    }\n",
              "</style>\n",
              "<table border=\"1\" class=\"dataframe\">\n",
              "  <thead>\n",
              "    <tr style=\"text-align: right;\">\n",
              "      <th></th>\n",
              "      <th>reviewId</th>\n",
              "      <th>userName</th>\n",
              "      <th>userImage</th>\n",
              "      <th>content</th>\n",
              "      <th>score</th>\n",
              "      <th>thumbsUpCount</th>\n",
              "      <th>reviewCreatedVersion</th>\n",
              "      <th>at</th>\n",
              "      <th>replyContent</th>\n",
              "      <th>repliedAt</th>\n",
              "    </tr>\n",
              "  </thead>\n",
              "  <tbody>\n",
              "    <tr>\n",
              "      <th>0</th>\n",
              "      <td>gp:AOqpTOGstSPrQNkNvSr2EBGT3jI-FnryXtJTJc6EQrKDH1D2iaiR9nG3gY1QYs5Dix0Bo7pPZbPI5QnWEReYX_E</td>\n",
              "      <td>Em P</td>\n",
              "      <td>https://play-lh.googleusercontent.com/a-/AOh14GgwXmLdzDNbBHCLopWgOKFrlgzGYyYbrySl5Xf-hWE</td>\n",
              "      <td>I love Google Chrome due to it's easy access, ability to go into desktop mode, etc... But, lately, whenever I attempt at opening Chrome, it's a blank screen for several minutes, and once it does finally load, I can't search up anything. All of my other apps work smoothly, my internet connection is fine. Please fix this. Thank you so much.</td>\n",
              "      <td>3</td>\n",
              "      <td>3706</td>\n",
              "      <td>100.0.4896.58</td>\n",
              "      <td>2022-04-05 04:25:05</td>\n",
              "      <td>Hey there. Let's try resetting Chrome's app data. You can learn how in this help center article under the \"Clear the app's cache\" section: https://goo.gle/31HWXkZ. If you're still having trouble, the experts in our community may be able to help: https://goo.gle/2Y0DMk8. Thanks!\\n</td>\n",
              "      <td>2022-04-05 05:02:18</td>\n",
              "    </tr>\n",
              "    <tr>\n",
              "      <th>1</th>\n",
              "      <td>gp:AOqpTOEk7mPfjNZ0RZGwM8hiSeiUKloLBHd7ZVoR68msED5JWiBYr0ukIwdUR-4fjAb9ErK-BL844PKQaERGS1Y</td>\n",
              "      <td>Adam Stanfield</td>\n",
              "      <td>https://play-lh.googleusercontent.com/a-/AOh14GhGDqECYGpCFmLB5MDsVRLtbevsv7evnUhKsMdl2A</td>\n",
              "      <td>At some point in the last couple of months, Chrome has gone nuts. I will be scrolling and everything will be going smoothly, but as soon as I click on a picture or a link, everything freezes, then my phone gives me that \"Chrome is not responding\" notice where I can choose to wait or just close the app. I have tried doing cleanup of data, cache, etc. but that doesn't seem to have made ANY change.</td>\n",
              "      <td>3</td>\n",
              "      <td>3106</td>\n",
              "      <td>100.0.4896.79</td>\n",
              "      <td>2022-04-09 12:27:08</td>\n",
              "      <td>NaN</td>\n",
              "      <td>NaN</td>\n",
              "    </tr>\n",
              "    <tr>\n",
              "      <th>2</th>\n",
              "      <td>gp:AOqpTOExU9Gy62l-HWSOJMBGF74sNZYeHUqCHs5LRtfbgZD2Eddiv18WalvVJu2pVZVf9g8oYCYI3sTXp4UDYAk</td>\n",
              "      <td>shawna van order</td>\n",
              "      <td>https://play-lh.googleusercontent.com/a/AATXAJyfovJYml-8fUhfrLBECYrG2Lx4e37XGi6qcxkk=mo</td>\n",
              "      <td>I have always used this as my web browser. Never questioned it. However... Recently whenever I'm using another app with this one not even open it opens the app and a webpage. There are different webpages it opens to. I close out the pages and then close the app but it continues to do it.... Alot!! I've tried clearing the cash and whatever else. I've tried to uninstall it but that isn't possible because it was already on the phone.. I really do not want to lose any information linked to chrome.</td>\n",
              "      <td>1</td>\n",
              "      <td>205</td>\n",
              "      <td>100.0.4896.127</td>\n",
              "      <td>2022-04-21 22:52:25</td>\n",
              "      <td>NaN</td>\n",
              "      <td>NaN</td>\n",
              "    </tr>\n",
              "    <tr>\n",
              "      <th>3</th>\n",
              "      <td>gp:AOqpTOFh-QmcD3CbdSVWwMX_mzyxbYTETBgGeiV2elFF-I1P7tfHTyWtP49w8te3P1eW4FGKJ7oa-KsxjmgELo8</td>\n",
              "      <td>R J</td>\n",
              "      <td>https://play-lh.googleusercontent.com/a/AATXAJzQPD-BkYe-z5uFXTxqU7t_D7rkTu5kRol7HRwQNg=mo</td>\n",
              "      <td>Can't get rid of white bar along the right side of the browser. Doesn't happen with any other browser. This used to be my fave browser but it just gets worse with no real innovation. Switching to a less intrusive browser that actually works. Also need to get rid of the tabs. It makes it harder to switch between open screens and find the one im looking for. I end up just using multiple windows like before.. Also please provide a better way to organize/delete bookmarks.</td>\n",
              "      <td>1</td>\n",
              "      <td>1787</td>\n",
              "      <td>100.0.4896.58</td>\n",
              "      <td>2022-04-02 12:57:23</td>\n",
              "      <td>NaN</td>\n",
              "      <td>NaN</td>\n",
              "    </tr>\n",
              "    <tr>\n",
              "      <th>4</th>\n",
              "      <td>gp:AOqpTOGU-gOqf_TKYiHhWj_pLsNKeC3oh2Csvd4LcHPPOjozpPnLWTt_SPHDHsWpA5dfIglfy5DlKHpfxjO-nrM</td>\n",
              "      <td>Emma M</td>\n",
              "      <td>https://play-lh.googleusercontent.com/a-/AOh14GgSbI5Yg3xryaClXQl9TdJhB8d6cJJt9y-Wn3LMgw</td>\n",
              "      <td>I've used this browser for years with minimal problems. It has everything &amp; is fast. The only issue I have with chrome is with the password manager - when it tells you that there's a breach. So, you change the password quickly on the account with the breech but it still shows as a breach and if you've used that password for others, it will show breeches in all those other sites even though there isn't. Make sure you cancel/delete unused accounts.</td>\n",
              "      <td>4</td>\n",
              "      <td>920</td>\n",
              "      <td>99.0.4844.88</td>\n",
              "      <td>2022-04-03 00:50:37</td>\n",
              "      <td>NaN</td>\n",
              "      <td>NaN</td>\n",
              "    </tr>\n",
              "    <tr>\n",
              "      <th>...</th>\n",
              "      <td>...</td>\n",
              "      <td>...</td>\n",
              "      <td>...</td>\n",
              "      <td>...</td>\n",
              "      <td>...</td>\n",
              "      <td>...</td>\n",
              "      <td>...</td>\n",
              "      <td>...</td>\n",
              "      <td>...</td>\n",
              "      <td>...</td>\n",
              "    </tr>\n",
              "    <tr>\n",
              "      <th>99995</th>\n",
              "      <td>gp:AOqpTOGR05yMexx5yaxP_8TgseO2X33Nh7r8uttQx7nXCghQtJMaDXhIPgD4-V4Xpo5Q3aG5zRq7HZa73-5hZv0</td>\n",
              "      <td>Tawheeduzzaman Tawheed [তাওহীদ]</td>\n",
              "      <td>https://play-lh.googleusercontent.com/a/AATXAJxDSH6C9DKIsTqtZAkI5asSCJafLwseyK6tBIPG=mo</td>\n",
              "      <td>The best browser of all time.! What a shame.! I miss the old chrome so much.!</td>\n",
              "      <td>1</td>\n",
              "      <td>0</td>\n",
              "      <td>86.0.4240.99</td>\n",
              "      <td>2020-10-21 16:04:44</td>\n",
              "      <td>NaN</td>\n",
              "      <td>NaN</td>\n",
              "    </tr>\n",
              "    <tr>\n",
              "      <th>99996</th>\n",
              "      <td>gp:AOqpTOGPNOyubOTmZVBAUgcGQc3pzbK9RJuZaUlk-9Nun5dzpdvPQigzvc_0_Ifb69MeVzIdrQ1VZERwGHCdfto</td>\n",
              "      <td>Helen Palmiero</td>\n",
              "      <td>https://play-lh.googleusercontent.com/a/AATXAJytSPJiO2rTAT8NmLS4xizyy8wfo4h03N-c45yI=mo</td>\n",
              "      <td>Chrome has ALWAYS been good for me. 11/2019 - Lately, Chrome has been rather slow.</td>\n",
              "      <td>5</td>\n",
              "      <td>2</td>\n",
              "      <td>78.0.3904.96</td>\n",
              "      <td>2019-11-19 15:14:40</td>\n",
              "      <td>NaN</td>\n",
              "      <td>NaN</td>\n",
              "    </tr>\n",
              "    <tr>\n",
              "      <th>99997</th>\n",
              "      <td>gp:AOqpTOHjWq1nkXbW7jrg_UJZp40NPxgsqw-RbkG0duhm0g_Mh8z-2uGw2dg-zVjTDo3WfrStAwI4jWxX8bEKHHQ</td>\n",
              "      <td>Aleena Sadler</td>\n",
              "      <td>https://play-lh.googleusercontent.com/a-/AOh14Gg6ywhD3CcRBIQNH98FbkJrynuj-PhlfnuDpKf1ua8</td>\n",
              "      <td>It won't fully update. I just keep seeing tlut updating for the last two days this is getting annoying.</td>\n",
              "      <td>1</td>\n",
              "      <td>0</td>\n",
              "      <td>87.0.4280.101</td>\n",
              "      <td>2021-01-09 05:18:11</td>\n",
              "      <td>NaN</td>\n",
              "      <td>NaN</td>\n",
              "    </tr>\n",
              "    <tr>\n",
              "      <th>99998</th>\n",
              "      <td>gp:AOqpTOHiSDvm2KWr1J9d9IFQpbYOmGXJMHWJ7BBG9EsoxcDiS1YKbZ8JGCF8SwTul27Hm9fVF13VWwWPJXvaY5k</td>\n",
              "      <td>Muzamil Samad</td>\n",
              "      <td>https://play-lh.googleusercontent.com/a-/AOh14GhGUaQICYka_ZzxJ2x54HXUA1p0rp9jCqDUsG7hpA</td>\n",
              "      <td>From last several days app doesn't update although it shows update but nothing happens when I click to update it freezes</td>\n",
              "      <td>1</td>\n",
              "      <td>0</td>\n",
              "      <td>83.0.4103.106</td>\n",
              "      <td>2020-08-03 09:56:59</td>\n",
              "      <td>NaN</td>\n",
              "      <td>NaN</td>\n",
              "    </tr>\n",
              "    <tr>\n",
              "      <th>99999</th>\n",
              "      <td>gp:AOqpTOGSdXRMejEKENH4hsIqK05RCKO1so3tpDE-VaCDdGXmPTS6Zd4DAFKfMtFILqTmmgCzW68RDKmE-aEJOJE</td>\n",
              "      <td>Blackberry Junction</td>\n",
              "      <td>https://play-lh.googleusercontent.com/a-/AOh14GgZBF83bqBV4_clzuAjF5x-hhnWlD1s214J129O</td>\n",
              "      <td>Never responds, my phone is only a few months old and every time i go ontongoogle chrome it says, \"Chrome is not responding\"</td>\n",
              "      <td>1</td>\n",
              "      <td>4</td>\n",
              "      <td>76.0.3809.89</td>\n",
              "      <td>2019-08-02 14:08:11</td>\n",
              "      <td>Hey there. Let's try resetting Chrome's app data. You can learn how in this help center article under the \"Clear the app's cache\" section: https://goo.gle/31HWXkZ. If you're still having trouble, the experts in our community may be able to help: https://goo.gle/2Y0DMk8. Thanks!</td>\n",
              "      <td>2019-08-02 14:10:44</td>\n",
              "    </tr>\n",
              "  </tbody>\n",
              "</table>\n",
              "<p>100000 rows × 10 columns</p>\n",
              "</div>\n",
              "      <button class=\"colab-df-convert\" onclick=\"convertToInteractive('df-70f3cbb5-b93f-46d6-a800-d9b4bc8e323e')\"\n",
              "              title=\"Convert this dataframe to an interactive table.\"\n",
              "              style=\"display:none;\">\n",
              "        \n",
              "  <svg xmlns=\"http://www.w3.org/2000/svg\" height=\"24px\"viewBox=\"0 0 24 24\"\n",
              "       width=\"24px\">\n",
              "    <path d=\"M0 0h24v24H0V0z\" fill=\"none\"/>\n",
              "    <path d=\"M18.56 5.44l.94 2.06.94-2.06 2.06-.94-2.06-.94-.94-2.06-.94 2.06-2.06.94zm-11 1L8.5 8.5l.94-2.06 2.06-.94-2.06-.94L8.5 2.5l-.94 2.06-2.06.94zm10 10l.94 2.06.94-2.06 2.06-.94-2.06-.94-.94-2.06-.94 2.06-2.06.94z\"/><path d=\"M17.41 7.96l-1.37-1.37c-.4-.4-.92-.59-1.43-.59-.52 0-1.04.2-1.43.59L10.3 9.45l-7.72 7.72c-.78.78-.78 2.05 0 2.83L4 21.41c.39.39.9.59 1.41.59.51 0 1.02-.2 1.41-.59l7.78-7.78 2.81-2.81c.8-.78.8-2.07 0-2.86zM5.41 20L4 18.59l7.72-7.72 1.47 1.35L5.41 20z\"/>\n",
              "  </svg>\n",
              "      </button>\n",
              "      \n",
              "  <style>\n",
              "    .colab-df-container {\n",
              "      display:flex;\n",
              "      flex-wrap:wrap;\n",
              "      gap: 12px;\n",
              "    }\n",
              "\n",
              "    .colab-df-convert {\n",
              "      background-color: #E8F0FE;\n",
              "      border: none;\n",
              "      border-radius: 50%;\n",
              "      cursor: pointer;\n",
              "      display: none;\n",
              "      fill: #1967D2;\n",
              "      height: 32px;\n",
              "      padding: 0 0 0 0;\n",
              "      width: 32px;\n",
              "    }\n",
              "\n",
              "    .colab-df-convert:hover {\n",
              "      background-color: #E2EBFA;\n",
              "      box-shadow: 0px 1px 2px rgba(60, 64, 67, 0.3), 0px 1px 3px 1px rgba(60, 64, 67, 0.15);\n",
              "      fill: #174EA6;\n",
              "    }\n",
              "\n",
              "    [theme=dark] .colab-df-convert {\n",
              "      background-color: #3B4455;\n",
              "      fill: #D2E3FC;\n",
              "    }\n",
              "\n",
              "    [theme=dark] .colab-df-convert:hover {\n",
              "      background-color: #434B5C;\n",
              "      box-shadow: 0px 1px 3px 1px rgba(0, 0, 0, 0.15);\n",
              "      filter: drop-shadow(0px 1px 2px rgba(0, 0, 0, 0.3));\n",
              "      fill: #FFFFFF;\n",
              "    }\n",
              "  </style>\n",
              "\n",
              "      <script>\n",
              "        const buttonEl =\n",
              "          document.querySelector('#df-70f3cbb5-b93f-46d6-a800-d9b4bc8e323e button.colab-df-convert');\n",
              "        buttonEl.style.display =\n",
              "          google.colab.kernel.accessAllowed ? 'block' : 'none';\n",
              "\n",
              "        async function convertToInteractive(key) {\n",
              "          const element = document.querySelector('#df-70f3cbb5-b93f-46d6-a800-d9b4bc8e323e');\n",
              "          const dataTable =\n",
              "            await google.colab.kernel.invokeFunction('convertToInteractive',\n",
              "                                                     [key], {});\n",
              "          if (!dataTable) return;\n",
              "\n",
              "          const docLinkHtml = 'Like what you see? Visit the ' +\n",
              "            '<a target=\"_blank\" href=https://colab.research.google.com/notebooks/data_table.ipynb>data table notebook</a>'\n",
              "            + ' to learn more about interactive tables.';\n",
              "          element.innerHTML = '';\n",
              "          dataTable['output_type'] = 'display_data';\n",
              "          await google.colab.output.renderOutput(dataTable, element);\n",
              "          const docLink = document.createElement('div');\n",
              "          docLink.innerHTML = docLinkHtml;\n",
              "          element.appendChild(docLink);\n",
              "        }\n",
              "      </script>\n",
              "    </div>\n",
              "  </div>\n",
              "  "
            ]
          },
          "metadata": {},
          "execution_count": 20
        }
      ],
      "source": [
        "data = pd.read_csv (r'/content/Google_Chrome_Browser.csv', na_values = 'n/a')\n",
        "data"
      ]
    },
    {
      "cell_type": "code",
      "execution_count": 21,
      "metadata": {
        "colab": {
          "base_uri": "https://localhost:8080/"
        },
        "id": "fNfH_TYhiAg3",
        "outputId": "0bef99f2-cc86-4cff-f345-9875629eb3f1"
      },
      "outputs": [
        {
          "output_type": "stream",
          "name": "stdout",
          "text": [
            "100000\n"
          ]
        }
      ],
      "source": [
        "print(len(data))"
      ]
    },
    {
      "cell_type": "markdown",
      "metadata": {
        "id": "iLi3LshEmysV"
      },
      "source": [
        "### Removing emojis and any character which is not an alphabet"
      ]
    },
    {
      "cell_type": "code",
      "execution_count": 22,
      "metadata": {
        "colab": {
          "base_uri": "https://localhost:8080/",
          "height": 1000
        },
        "id": "YmA_9Ldc6nK8",
        "outputId": "491f4fe4-2a41-4e86-cea9-ff2629dadce9"
      },
      "outputs": [
        {
          "output_type": "execute_result",
          "data": {
            "text/plain": [
              "                                                                                     reviewId  \\\n",
              "0  gp:AOqpTOGstSPrQNkNvSr2EBGT3jI-FnryXtJTJc6EQrKDH1D2iaiR9nG3gY1QYs5Dix0Bo7pPZbPI5QnWEReYX_E   \n",
              "1  gp:AOqpTOEk7mPfjNZ0RZGwM8hiSeiUKloLBHd7ZVoR68msED5JWiBYr0ukIwdUR-4fjAb9ErK-BL844PKQaERGS1Y   \n",
              "2  gp:AOqpTOExU9Gy62l-HWSOJMBGF74sNZYeHUqCHs5LRtfbgZD2Eddiv18WalvVJu2pVZVf9g8oYCYI3sTXp4UDYAk   \n",
              "3  gp:AOqpTOFh-QmcD3CbdSVWwMX_mzyxbYTETBgGeiV2elFF-I1P7tfHTyWtP49w8te3P1eW4FGKJ7oa-KsxjmgELo8   \n",
              "4  gp:AOqpTOGU-gOqf_TKYiHhWj_pLsNKeC3oh2Csvd4LcHPPOjozpPnLWTt_SPHDHsWpA5dfIglfy5DlKHpfxjO-nrM   \n",
              "\n",
              "           userName  \\\n",
              "0  Em P               \n",
              "1  Adam Stanfield     \n",
              "2  shawna van order   \n",
              "3  R J                \n",
              "4  Emma M             \n",
              "\n",
              "                                                                                   userImage  \\\n",
              "0  https://play-lh.googleusercontent.com/a-/AOh14GgwXmLdzDNbBHCLopWgOKFrlgzGYyYbrySl5Xf-hWE    \n",
              "1  https://play-lh.googleusercontent.com/a-/AOh14GhGDqECYGpCFmLB5MDsVRLtbevsv7evnUhKsMdl2A     \n",
              "2  https://play-lh.googleusercontent.com/a/AATXAJyfovJYml-8fUhfrLBECYrG2Lx4e37XGi6qcxkk=mo     \n",
              "3  https://play-lh.googleusercontent.com/a/AATXAJzQPD-BkYe-z5uFXTxqU7t_D7rkTu5kRol7HRwQNg=mo   \n",
              "4  https://play-lh.googleusercontent.com/a-/AOh14GgSbI5Yg3xryaClXQl9TdJhB8d6cJJt9y-Wn3LMgw     \n",
              "\n",
              "                                                                                                                                                                                                                                                                                                                                                                                                                                                                                                              content  \\\n",
              "0  I love Google Chrome due to it's easy access, ability to go into desktop mode, etc... But, lately, whenever I attempt at opening Chrome, it's a blank screen for several minutes, and once it does finally load, I can't search up anything. All of my other apps work smoothly, my internet connection is fine. Please fix this. Thank you so much.                                                                                                                                                                 \n",
              "1  At some point in the last couple of months, Chrome has gone nuts. I will be scrolling and everything will be going smoothly, but as soon as I click on a picture or a link, everything freezes, then my phone gives me that \"Chrome is not responding\" notice where I can choose to wait or just close the app. I have tried doing cleanup of data, cache, etc. but that doesn't seem to have made ANY change.                                                                                                       \n",
              "2  I have always used this as my web browser. Never questioned it. However... Recently whenever I'm using another app with this one not even open it opens the app and a webpage. There are different webpages it opens to. I close out the pages and then close the app but it continues to do it.... Alot!! I've tried clearing the cash and whatever else. I've tried to uninstall it but that isn't possible because it was already on the phone.. I really do not want to lose any information linked to chrome.   \n",
              "3  Can't get rid of white bar along the right side of the browser. Doesn't happen with any other browser. This used to be my fave browser but it just gets worse with no real innovation. Switching to a less intrusive browser that actually works. Also need to get rid of the tabs. It makes it harder to switch between open screens and find the one im looking for. I end up just using multiple windows like before.. Also please provide a better way to organize/delete bookmarks.                             \n",
              "4  I've used this browser for years with minimal problems. It has everything & is fast. The only issue I have with chrome is with the password manager - when it tells you that there's a breach. So, you change the password quickly on the account with the breech but it still shows as a breach and if you've used that password for others, it will show breeches in all those other sites even though there isn't. Make sure you cancel/delete unused accounts.                                                   \n",
              "\n",
              "  score thumbsUpCount reviewCreatedVersion                   at  \\\n",
              "0  3     3706          100.0.4896.58        2022-04-05 04:25:05   \n",
              "1  3     3106          100.0.4896.79        2022-04-09 12:27:08   \n",
              "2  1     205           100.0.4896.127       2022-04-21 22:52:25   \n",
              "3  1     1787          100.0.4896.58        2022-04-02 12:57:23   \n",
              "4  4     920           99.0.4844.88         2022-04-03 00:50:37   \n",
              "\n",
              "                                                                                                                                                                                                                                                                               replyContent  \\\n",
              "0  Hey there. Let's try resetting Chrome's app data. You can learn how in this help center article under the \"Clear the app's cache\" section: https://goo.gle/31HWXkZ. If you're still having trouble, the experts in our community may be able to help: https://goo.gle/2Y0DMk8. Thanks!\\n   \n",
              "1  nan                                                                                                                                                                                                                                                                                        \n",
              "2  nan                                                                                                                                                                                                                                                                                        \n",
              "3  nan                                                                                                                                                                                                                                                                                        \n",
              "4  nan                                                                                                                                                                                                                                                                                        \n",
              "\n",
              "             repliedAt  \n",
              "0  2022-04-05 05:02:18  \n",
              "1  nan                  \n",
              "2  nan                  \n",
              "3  nan                  \n",
              "4  nan                  "
            ],
            "text/html": [
              "\n",
              "  <div id=\"df-3195eb96-66f0-4520-ab03-1b3975adbb36\">\n",
              "    <div class=\"colab-df-container\">\n",
              "      <div>\n",
              "<style scoped>\n",
              "    .dataframe tbody tr th:only-of-type {\n",
              "        vertical-align: middle;\n",
              "    }\n",
              "\n",
              "    .dataframe tbody tr th {\n",
              "        vertical-align: top;\n",
              "    }\n",
              "\n",
              "    .dataframe thead th {\n",
              "        text-align: right;\n",
              "    }\n",
              "</style>\n",
              "<table border=\"1\" class=\"dataframe\">\n",
              "  <thead>\n",
              "    <tr style=\"text-align: right;\">\n",
              "      <th></th>\n",
              "      <th>reviewId</th>\n",
              "      <th>userName</th>\n",
              "      <th>userImage</th>\n",
              "      <th>content</th>\n",
              "      <th>score</th>\n",
              "      <th>thumbsUpCount</th>\n",
              "      <th>reviewCreatedVersion</th>\n",
              "      <th>at</th>\n",
              "      <th>replyContent</th>\n",
              "      <th>repliedAt</th>\n",
              "    </tr>\n",
              "  </thead>\n",
              "  <tbody>\n",
              "    <tr>\n",
              "      <th>0</th>\n",
              "      <td>gp:AOqpTOGstSPrQNkNvSr2EBGT3jI-FnryXtJTJc6EQrKDH1D2iaiR9nG3gY1QYs5Dix0Bo7pPZbPI5QnWEReYX_E</td>\n",
              "      <td>Em P</td>\n",
              "      <td>https://play-lh.googleusercontent.com/a-/AOh14GgwXmLdzDNbBHCLopWgOKFrlgzGYyYbrySl5Xf-hWE</td>\n",
              "      <td>I love Google Chrome due to it's easy access, ability to go into desktop mode, etc... But, lately, whenever I attempt at opening Chrome, it's a blank screen for several minutes, and once it does finally load, I can't search up anything. All of my other apps work smoothly, my internet connection is fine. Please fix this. Thank you so much.</td>\n",
              "      <td>3</td>\n",
              "      <td>3706</td>\n",
              "      <td>100.0.4896.58</td>\n",
              "      <td>2022-04-05 04:25:05</td>\n",
              "      <td>Hey there. Let's try resetting Chrome's app data. You can learn how in this help center article under the \"Clear the app's cache\" section: https://goo.gle/31HWXkZ. If you're still having trouble, the experts in our community may be able to help: https://goo.gle/2Y0DMk8. Thanks!\\n</td>\n",
              "      <td>2022-04-05 05:02:18</td>\n",
              "    </tr>\n",
              "    <tr>\n",
              "      <th>1</th>\n",
              "      <td>gp:AOqpTOEk7mPfjNZ0RZGwM8hiSeiUKloLBHd7ZVoR68msED5JWiBYr0ukIwdUR-4fjAb9ErK-BL844PKQaERGS1Y</td>\n",
              "      <td>Adam Stanfield</td>\n",
              "      <td>https://play-lh.googleusercontent.com/a-/AOh14GhGDqECYGpCFmLB5MDsVRLtbevsv7evnUhKsMdl2A</td>\n",
              "      <td>At some point in the last couple of months, Chrome has gone nuts. I will be scrolling and everything will be going smoothly, but as soon as I click on a picture or a link, everything freezes, then my phone gives me that \"Chrome is not responding\" notice where I can choose to wait or just close the app. I have tried doing cleanup of data, cache, etc. but that doesn't seem to have made ANY change.</td>\n",
              "      <td>3</td>\n",
              "      <td>3106</td>\n",
              "      <td>100.0.4896.79</td>\n",
              "      <td>2022-04-09 12:27:08</td>\n",
              "      <td>nan</td>\n",
              "      <td>nan</td>\n",
              "    </tr>\n",
              "    <tr>\n",
              "      <th>2</th>\n",
              "      <td>gp:AOqpTOExU9Gy62l-HWSOJMBGF74sNZYeHUqCHs5LRtfbgZD2Eddiv18WalvVJu2pVZVf9g8oYCYI3sTXp4UDYAk</td>\n",
              "      <td>shawna van order</td>\n",
              "      <td>https://play-lh.googleusercontent.com/a/AATXAJyfovJYml-8fUhfrLBECYrG2Lx4e37XGi6qcxkk=mo</td>\n",
              "      <td>I have always used this as my web browser. Never questioned it. However... Recently whenever I'm using another app with this one not even open it opens the app and a webpage. There are different webpages it opens to. I close out the pages and then close the app but it continues to do it.... Alot!! I've tried clearing the cash and whatever else. I've tried to uninstall it but that isn't possible because it was already on the phone.. I really do not want to lose any information linked to chrome.</td>\n",
              "      <td>1</td>\n",
              "      <td>205</td>\n",
              "      <td>100.0.4896.127</td>\n",
              "      <td>2022-04-21 22:52:25</td>\n",
              "      <td>nan</td>\n",
              "      <td>nan</td>\n",
              "    </tr>\n",
              "    <tr>\n",
              "      <th>3</th>\n",
              "      <td>gp:AOqpTOFh-QmcD3CbdSVWwMX_mzyxbYTETBgGeiV2elFF-I1P7tfHTyWtP49w8te3P1eW4FGKJ7oa-KsxjmgELo8</td>\n",
              "      <td>R J</td>\n",
              "      <td>https://play-lh.googleusercontent.com/a/AATXAJzQPD-BkYe-z5uFXTxqU7t_D7rkTu5kRol7HRwQNg=mo</td>\n",
              "      <td>Can't get rid of white bar along the right side of the browser. Doesn't happen with any other browser. This used to be my fave browser but it just gets worse with no real innovation. Switching to a less intrusive browser that actually works. Also need to get rid of the tabs. It makes it harder to switch between open screens and find the one im looking for. I end up just using multiple windows like before.. Also please provide a better way to organize/delete bookmarks.</td>\n",
              "      <td>1</td>\n",
              "      <td>1787</td>\n",
              "      <td>100.0.4896.58</td>\n",
              "      <td>2022-04-02 12:57:23</td>\n",
              "      <td>nan</td>\n",
              "      <td>nan</td>\n",
              "    </tr>\n",
              "    <tr>\n",
              "      <th>4</th>\n",
              "      <td>gp:AOqpTOGU-gOqf_TKYiHhWj_pLsNKeC3oh2Csvd4LcHPPOjozpPnLWTt_SPHDHsWpA5dfIglfy5DlKHpfxjO-nrM</td>\n",
              "      <td>Emma M</td>\n",
              "      <td>https://play-lh.googleusercontent.com/a-/AOh14GgSbI5Yg3xryaClXQl9TdJhB8d6cJJt9y-Wn3LMgw</td>\n",
              "      <td>I've used this browser for years with minimal problems. It has everything &amp; is fast. The only issue I have with chrome is with the password manager - when it tells you that there's a breach. So, you change the password quickly on the account with the breech but it still shows as a breach and if you've used that password for others, it will show breeches in all those other sites even though there isn't. Make sure you cancel/delete unused accounts.</td>\n",
              "      <td>4</td>\n",
              "      <td>920</td>\n",
              "      <td>99.0.4844.88</td>\n",
              "      <td>2022-04-03 00:50:37</td>\n",
              "      <td>nan</td>\n",
              "      <td>nan</td>\n",
              "    </tr>\n",
              "  </tbody>\n",
              "</table>\n",
              "</div>\n",
              "      <button class=\"colab-df-convert\" onclick=\"convertToInteractive('df-3195eb96-66f0-4520-ab03-1b3975adbb36')\"\n",
              "              title=\"Convert this dataframe to an interactive table.\"\n",
              "              style=\"display:none;\">\n",
              "        \n",
              "  <svg xmlns=\"http://www.w3.org/2000/svg\" height=\"24px\"viewBox=\"0 0 24 24\"\n",
              "       width=\"24px\">\n",
              "    <path d=\"M0 0h24v24H0V0z\" fill=\"none\"/>\n",
              "    <path d=\"M18.56 5.44l.94 2.06.94-2.06 2.06-.94-2.06-.94-.94-2.06-.94 2.06-2.06.94zm-11 1L8.5 8.5l.94-2.06 2.06-.94-2.06-.94L8.5 2.5l-.94 2.06-2.06.94zm10 10l.94 2.06.94-2.06 2.06-.94-2.06-.94-.94-2.06-.94 2.06-2.06.94z\"/><path d=\"M17.41 7.96l-1.37-1.37c-.4-.4-.92-.59-1.43-.59-.52 0-1.04.2-1.43.59L10.3 9.45l-7.72 7.72c-.78.78-.78 2.05 0 2.83L4 21.41c.39.39.9.59 1.41.59.51 0 1.02-.2 1.41-.59l7.78-7.78 2.81-2.81c.8-.78.8-2.07 0-2.86zM5.41 20L4 18.59l7.72-7.72 1.47 1.35L5.41 20z\"/>\n",
              "  </svg>\n",
              "      </button>\n",
              "      \n",
              "  <style>\n",
              "    .colab-df-container {\n",
              "      display:flex;\n",
              "      flex-wrap:wrap;\n",
              "      gap: 12px;\n",
              "    }\n",
              "\n",
              "    .colab-df-convert {\n",
              "      background-color: #E8F0FE;\n",
              "      border: none;\n",
              "      border-radius: 50%;\n",
              "      cursor: pointer;\n",
              "      display: none;\n",
              "      fill: #1967D2;\n",
              "      height: 32px;\n",
              "      padding: 0 0 0 0;\n",
              "      width: 32px;\n",
              "    }\n",
              "\n",
              "    .colab-df-convert:hover {\n",
              "      background-color: #E2EBFA;\n",
              "      box-shadow: 0px 1px 2px rgba(60, 64, 67, 0.3), 0px 1px 3px 1px rgba(60, 64, 67, 0.15);\n",
              "      fill: #174EA6;\n",
              "    }\n",
              "\n",
              "    [theme=dark] .colab-df-convert {\n",
              "      background-color: #3B4455;\n",
              "      fill: #D2E3FC;\n",
              "    }\n",
              "\n",
              "    [theme=dark] .colab-df-convert:hover {\n",
              "      background-color: #434B5C;\n",
              "      box-shadow: 0px 1px 3px 1px rgba(0, 0, 0, 0.15);\n",
              "      filter: drop-shadow(0px 1px 2px rgba(0, 0, 0, 0.3));\n",
              "      fill: #FFFFFF;\n",
              "    }\n",
              "  </style>\n",
              "\n",
              "      <script>\n",
              "        const buttonEl =\n",
              "          document.querySelector('#df-3195eb96-66f0-4520-ab03-1b3975adbb36 button.colab-df-convert');\n",
              "        buttonEl.style.display =\n",
              "          google.colab.kernel.accessAllowed ? 'block' : 'none';\n",
              "\n",
              "        async function convertToInteractive(key) {\n",
              "          const element = document.querySelector('#df-3195eb96-66f0-4520-ab03-1b3975adbb36');\n",
              "          const dataTable =\n",
              "            await google.colab.kernel.invokeFunction('convertToInteractive',\n",
              "                                                     [key], {});\n",
              "          if (!dataTable) return;\n",
              "\n",
              "          const docLinkHtml = 'Like what you see? Visit the ' +\n",
              "            '<a target=\"_blank\" href=https://colab.research.google.com/notebooks/data_table.ipynb>data table notebook</a>'\n",
              "            + ' to learn more about interactive tables.';\n",
              "          element.innerHTML = '';\n",
              "          dataTable['output_type'] = 'display_data';\n",
              "          await google.colab.output.renderOutput(dataTable, element);\n",
              "          const docLink = document.createElement('div');\n",
              "          docLink.innerHTML = docLinkHtml;\n",
              "          element.appendChild(docLink);\n",
              "        }\n",
              "      </script>\n",
              "    </div>\n",
              "  </div>\n",
              "  "
            ]
          },
          "metadata": {},
          "execution_count": 22
        }
      ],
      "source": [
        "new_data = data.astype(str).apply(lambda x: x.str.encode('ascii', 'ignore').str.decode('ascii'))\n",
        "new_data['content'].astype(bool)\n",
        "new_data=new_data[new_data['content'].astype(bool)]\n",
        "new_data.head()"
      ]
    },
    {
      "cell_type": "code",
      "execution_count": 23,
      "metadata": {
        "colab": {
          "base_uri": "https://localhost:8080/"
        },
        "id": "UxrEmsFq7Ant",
        "outputId": "d9ef3f03-6b38-4dfb-a83b-dd71512b7c82"
      },
      "outputs": [
        {
          "output_type": "stream",
          "name": "stdout",
          "text": [
            "100000\n"
          ]
        }
      ],
      "source": [
        "print(len(new_data))"
      ]
    },
    {
      "cell_type": "markdown",
      "metadata": {
        "id": "SstV7ZL17q83"
      },
      "source": [
        "### Data Cleanig & Pre-processing Code"
      ]
    },
    {
      "cell_type": "code",
      "execution_count": 40,
      "metadata": {
        "colab": {
          "base_uri": "https://localhost:8080/"
        },
        "id": "PlmXy1i1zyww",
        "outputId": "65c3a979-957a-41e7-808a-4d27a4c3e9b7"
      },
      "outputs": [
        {
          "output_type": "stream",
          "name": "stdout",
          "text": [
            "0        I love Google Chrome due to it's easy access, ability to go into desktop mode, etc... But, lately, whenever I attempt at opening Chrome, it's a blank screen for several minutes, and once it does finally load, I can't search up anything. All of my other apps work smoothly, my internet connection is fine. Please fix this. Thank you so much.                                                                                                                                                              \n",
            "1        At some point in the last couple of months, Chrome has gone nuts. I will be scrolling and everything will be going smoothly, but as soon as I click on a picture or a link, everything freezes, then my phone gives me that \"Chrome is not responding\" notice where I can choose to wait or just close the app. I have tried doing cleanup of data, cache, etc. but that doesn't seem to have made ANY change.                                                                                                    \n",
            "2        I have always used this as my web browser. Never questioned it. However... Recently whenever I'm using another app with this one not even open it opens the app and a webpage. There are different webpages it opens to. I close out the pages and then close the app but it continues to do it.... Alot!! I've tried clearing the cash and whatever else. I've tried to uninstall it but that isn't possible because it was already on the phone.. I really do not want to lose any information linked to chrome.\n",
            "3        Can't get rid of white bar along the right side of the browser. Doesn't happen with any other browser. This used to be my fave browser but it just gets worse with no real innovation. Switching to a less intrusive browser that actually works. Also need to get rid of the tabs. It makes it harder to switch between open screens and find the one im looking for. I end up just using multiple windows like before.. Also please provide a better way to organize/delete bookmarks.                          \n",
            "4        I've used this browser for years with minimal problems. It has everything & is fast. The only issue I have with chrome is with the password manager - when it tells you that there's a breach. So, you change the password quickly on the account with the breech but it still shows as a breach and if you've used that password for others, it will show breeches in all those other sites even though there isn't. Make sure you cancel/delete unused accounts.                                                \n",
            "                                                                                                                                                                                                                                        ...                                                                                                                                                                                                                                                                                \n",
            "99995    The best browser of all time.! What a shame.! I miss the old chrome so much.!                                                                                                                                                                                                                                                                                                                                                                                                                                     \n",
            "99996    Chrome has ALWAYS been good for me. 11/2019 - Lately, Chrome has been rather slow.                                                                                                                                                                                                                                                                                                                                                                                                                                \n",
            "99997    It won't fully update. I just keep seeing tlut updating for the last two days this is getting annoying.                                                                                                                                                                                                                                                                                                                                                                                                           \n",
            "99998    From last several days app doesn't update although it shows update but nothing happens when I click to update it freezes                                                                                                                                                                                                                                                                                                                                                                                          \n",
            "99999    Never responds, my phone is only a few months old and every time i go ontongoogle chrome it says, \"Chrome is not responding\"                                                                                                                                                                                                                                                                                                                                                                                      \n",
            "Name: content, Length: 100000, dtype: object\n"
          ]
        },
        {
          "output_type": "execute_result",
          "data": {
            "text/plain": [
              "['i love google chrome due to it is easy access ability to go into desktop mode etc but lately whenever i attempt at opening chrome it is a blank screen for several minutes and once it does finally load i can not search up anything all of my other apps work smoothly my internet connection is fine please fix this thank you so much']"
            ]
          },
          "metadata": {},
          "execution_count": 40
        }
      ],
      "source": [
        "def data_words_clean(df):\n",
        "  Prepro_data = list()\n",
        "  steps = data[\"content\"]\n",
        "  print(steps)\n",
        "  for data_words in steps:\n",
        "    data_words = data_words.lower()\n",
        "    \n",
        "    pattern = re.compile('http[s]?://(?:[a-zA-Z]|[0-9]|[$-_@.&+]|[!*\\(\\),]|(?:%[0-9a-fA-F][0-9a-fA-F]))+')\n",
        "    data_words = pattern.sub('', data_words)\n",
        "    \n",
        "    emoji = re.compile(\"[\"\n",
        "                        u\"\\U0001F600-\\U0001FFFF\"  # emoticons\n",
        "                        u\"\\U0001F300-\\U0001F5FF\"  # symbols & pictographs\n",
        "                        u\"\\U0001F680-\\U0001F6FF\"  # transport & map symbols\n",
        "                        u\"\\U0001F1E0-\\U0001F1FF\"  # flags (iOS)\n",
        "                        u\"\\U00002702-\\U000027B0\"\n",
        "                        u\"\\U000024C2-\\U0001F251\"\n",
        "                        \"]+\", flags=re.UNICODE)\n",
        "    data_words = emoji.sub(r'', data_words)\n",
        "    \n",
        "    data_words = re.sub(r\"i'm\", \"i am\", data_words)\n",
        "    data_words = re.sub(r\"he's\", \"he is\", data_words)\n",
        "    data_words = re.sub(r\"she's\", \"she is\", data_words)\n",
        "    data_words = re.sub(r\"that's\", \"that is\", data_words)        \n",
        "    data_words = re.sub(r\"what's\", \"what is\", data_words)\n",
        "    data_words = re.sub(r\"where's\", \"where is\", data_words) \n",
        "    data_words = re.sub(r\"\\'ll\", \" will\", data_words)  \n",
        "    data_words = re.sub(r\"\\'ve\", \" have\", data_words)  \n",
        "    data_words = re.sub(r\"\\'re\", \" are\", data_words)\n",
        "    data_words = re.sub(r\"\\'d\", \" would\", data_words)\n",
        "    data_words = re.sub(r\"\\'ve\", \" have\", data_words)\n",
        "    data_words = re.sub(r\"won't\", \"will not\", data_words)\n",
        "    data_words = re.sub(r\"don't\", \"do not\", data_words)\n",
        "    data_words = re.sub(r\"did't\", \"did not\", data_words)\n",
        "    data_words = re.sub(r\"can't\", \"can not\", data_words)\n",
        "    data_words = re.sub(r\"it's\", \"it is\", data_words)\n",
        "    data_words = re.sub(r\"couldn't\", \"could not\", data_words)\n",
        "    data_words = re.sub(r\"have't\", \"have not\", data_words)\n",
        "    \n",
        "    data_words = re.sub(r\"[,.\\\"!@#$%^&*(){}?/;`~:<>+=-]\", \"\", data_words)\n",
        "    tokens = word_tokenize(data_words)\n",
        "    table = str.maketrans('', '', string.punctuation)\n",
        "    stripped = [w.translate(table) for w in tokens]\n",
        "    words = [word for word in stripped if word.isalpha()]\n",
        "#   stop_words = set(stopwords.words(\"english\"))\n",
        "#   stop_words.discard(\"not\")\n",
        "#   words = [w for w in words if not w in stop_words]\n",
        "    words = ' '.join(words)\n",
        "    Prepro_data.append(words)\n",
        "    return Prepro_data\n",
        "\n",
        "Prepro_data = data_words_clean(new_data)\n",
        "#Prepro_data[0:99999]\n",
        "Prepro_data"
      ]
    },
    {
      "cell_type": "markdown",
      "source": [
        "# 3) Analysis of Data(Sentiment Analysis)"
      ],
      "metadata": {
        "id": "YDip8BeNomK5"
      }
    },
    {
      "cell_type": "markdown",
      "source": [
        "### first we have to install vaderSentiment"
      ],
      "metadata": {
        "id": "5-5HtPOJp6o5"
      }
    },
    {
      "cell_type": "code",
      "source": [
        "pip install vaderSentiment"
      ],
      "metadata": {
        "colab": {
          "base_uri": "https://localhost:8080/"
        },
        "id": "71MompRYVmCP",
        "outputId": "a8c610dc-97cb-4f30-c3d7-2f811aa57e5e"
      },
      "execution_count": 64,
      "outputs": [
        {
          "output_type": "stream",
          "name": "stdout",
          "text": [
            "Requirement already satisfied: vaderSentiment in /usr/local/lib/python3.7/dist-packages (3.3.2)\n",
            "Requirement already satisfied: requests in /usr/local/lib/python3.7/dist-packages (from vaderSentiment) (2.23.0)\n",
            "Requirement already satisfied: chardet<4,>=3.0.2 in /usr/local/lib/python3.7/dist-packages (from requests->vaderSentiment) (3.0.4)\n",
            "Requirement already satisfied: idna<3,>=2.5 in /usr/local/lib/python3.7/dist-packages (from requests->vaderSentiment) (2.10)\n",
            "Requirement already satisfied: certifi>=2017.4.17 in /usr/local/lib/python3.7/dist-packages (from requests->vaderSentiment) (2021.10.8)\n",
            "Requirement already satisfied: urllib3!=1.25.0,!=1.25.1,<1.26,>=1.21.1 in /usr/local/lib/python3.7/dist-packages (from requests->vaderSentiment) (1.24.3)\n"
          ]
        }
      ]
    },
    {
      "cell_type": "markdown",
      "source": [
        "### Import Needed files"
      ],
      "metadata": {
        "id": "7MdCorq5qDhk"
      }
    },
    {
      "cell_type": "code",
      "source": [
        "from textblob import TextBlob\n",
        "from nltk.text import Text"
      ],
      "metadata": {
        "id": "W496scQPmJGK"
      },
      "execution_count": 65,
      "outputs": []
    },
    {
      "cell_type": "markdown",
      "source": [
        "### sentiment analysis code with TextBlob\n",
        "\n",
        "> Indented block\n",
        "\n"
      ],
      "metadata": {
        "id": "xFKN8tP6qNsZ"
      }
    },
    {
      "cell_type": "code",
      "source": [
        "def analyze_sentiment(Prepro_data):\n",
        "  analysis = TextBlob(Prepro_data)\n",
        "  if analysis.sentiment.polarity>0:  # we quantify this sentiment with a positive or negative value that's call polarity score.\n",
        "    return 'Positive'\n",
        "  elif analysis.sentiment.polarity==0:\n",
        "    return 'Neutral'\n",
        "  else:\n",
        "    return 'Negative'"
      ],
      "metadata": {
        "id": "D7qAkEgymoFu"
      },
      "execution_count": 66,
      "outputs": []
    },
    {
      "cell_type": "code",
      "source": [
        "Prepro_data = pd.DataFrame(Prepro_data)"
      ],
      "metadata": {
        "id": "zMHdiR_mna8m"
      },
      "execution_count": 72,
      "outputs": []
    },
    {
      "cell_type": "code",
      "source": [
        "Prepro_data['sentiment'] = [str(analyze_sentiment(x)) for x in Prepro_data.Prepro_data]"
      ],
      "metadata": {
        "id": "ey6g6lRQoU4e"
      },
      "execution_count": 73,
      "outputs": []
    },
    {
      "cell_type": "markdown",
      "source": [
        "# 4) Result Observed"
      ],
      "metadata": {
        "id": "VSv9Xj_yqdxc"
      }
    },
    {
      "cell_type": "code",
      "source": [
        "Prepro_data.sentiment.value_counts()"
      ],
      "metadata": {
        "colab": {
          "base_uri": "https://localhost:8080/"
        },
        "id": "rzz8TUploAIq",
        "outputId": "cda39af0-f419-40f8-ad02-a400671947a6"
      },
      "execution_count": 74,
      "outputs": [
        {
          "output_type": "execute_result",
          "data": {
            "text/plain": [
              "Positive    1\n",
              "Name: sentiment, dtype: int64"
            ]
          },
          "metadata": {},
          "execution_count": 74
        }
      ]
    }
  ],
  "metadata": {
    "colab": {
      "name": "Google_Chrome_WebBrowser_App_Review.ipynb",
      "provenance": [],
      "authorship_tag": "ABX9TyPckAuqmQYw6t30pBlaDiWg",
      "include_colab_link": true
    },
    "kernelspec": {
      "display_name": "Python 3",
      "name": "python3"
    },
    "language_info": {
      "name": "python"
    }
  },
  "nbformat": 4,
  "nbformat_minor": 0
}